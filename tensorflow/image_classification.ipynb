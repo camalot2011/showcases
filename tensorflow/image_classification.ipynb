{
 "cells": [
  {
   "cell_type": "code",
   "execution_count": 1,
   "metadata": {},
   "outputs": [],
   "source": [
    "%matplotlib inline\n",
    "import matplotlib\n",
    "import numpy as np\n",
    "import seaborn as sns\n",
    "sns.set()\n",
    "matplotlib.rcParams['figure.dpi'] = 144"
   ]
  },
  {
   "cell_type": "markdown",
   "metadata": {},
   "source": [
    "# Image Classification with TensorFlow"
   ]
  },
  {
   "cell_type": "markdown",
   "metadata": {},
   "source": [
    "Image classification is a common task for deep learning and neural networks.  The raw features coming in are the pixel values.  These are simple enough to deal with, but it is difficult to connect pixel values to determining whether an image is of a cat.  Older methods used a lot of clever filters, but the current best-of-breed algorithms simply throw a lot of linear algebra at the problem.\n",
    "\n",
    "In this project, I will build a series of models to classify a series of images into one of ten classes. For expediency, these images are pretty small ($32\\times32\\times3$).  This can make classification a bit tricky&mdash;human performance is only about 94%.\n",
    "\n",
    "A training set and a validation set are available under the same folder.  Ground truth values are provided for the training set.  I will train the models on the training set, and then make predictions for each of the validation images."
   ]
  },
  {
   "cell_type": "markdown",
   "metadata": {},
   "source": [
    "## Data Pre-processing"
   ]
  },
  {
   "cell_type": "markdown",
   "metadata": {},
   "source": [
    "The `CIFAR-10` data set are used.  It consists of 60,000 images, each $32\\times32$ color pixels, each belonging to one of ten classes. We will download the [data](https://www.cs.toronto.edu/~kriz/cifar.html)."
   ]
  },
  {
   "cell_type": "markdown",
   "metadata": {},
   "source": [
    "The data are downloaded, extracted, and pre-processed:"
   ]
  },
  {
   "cell_type": "code",
   "execution_count": 2,
   "metadata": {},
   "outputs": [],
   "source": [
    "# download data\n",
    "from six.moves import urllib\n",
    "import os\n",
    "DATA_URL = 'https://www.cs.toronto.edu/~kriz/cifar-10-python.tar.gz'\n",
    "filename = DATA_URL.split('/')[-1]\n",
    "if not os.path.exists(filename):\n",
    "    urllib.request.urlretrieve(DATA_URL, filename)"
   ]
  },
  {
   "cell_type": "code",
   "execution_count": 3,
   "metadata": {},
   "outputs": [],
   "source": [
    "# extract data\n",
    "import tarfile\n",
    "dest_dir = './data/'\n",
    "extract_dir = os.path.join(dest_dir, 'cifar-10-batches-py')\n",
    "if not os.path.exists(extract_dir):\n",
    "    os.makedirs(dest_dir)\n",
    "    tarfile.open(filename,'r:gz').extractall(dest_dir)"
   ]
  },
  {
   "cell_type": "code",
   "execution_count": 4,
   "metadata": {},
   "outputs": [
    {
     "name": "stdout",
     "output_type": "stream",
     "text": [
      "Train images shape:  (50000, 32, 32, 3)\n",
      "Train labels shape:  (50000,)\n",
      "Validation images shape:  (10000, 32, 32, 3)\n",
      "Validation labels shape:  (10000,)\n"
     ]
    }
   ],
   "source": [
    "# data loading and pre-processing\n",
    "import pickle\n",
    "def unpickle(file):\n",
    "    '''load the binary file by unpickling'''\n",
    "    with open(file, 'rb') as fo:\n",
    "        dict1 = pickle.load(fo, encoding='latin1')\n",
    "    return dict1\n",
    "\n",
    "def load_one(file):\n",
    "    '''load single batch, reshape the images to 32X32X3,\n",
    "       convert to [0,1)'''\n",
    "    data = unpickle(file)\n",
    "    X = (data['data'].reshape([-1,3,32,32])\n",
    "                     .transpose(0,2,3,1)\n",
    "                     .astype(\"float\"))\n",
    "    X = X/256.0 # convert to [0,1)\n",
    "    Y = np.array(data['labels'])\n",
    "    return X, Y\n",
    "\n",
    "def load_all(ROOT):\n",
    "    '''load all batches'''\n",
    "    xs = []\n",
    "    ys = []\n",
    "    for i in range(1,6):\n",
    "        f = os.path.join(ROOT, 'data_batch_%d' % (i, ))\n",
    "        X, Y = load_one(f)\n",
    "        xs.append(X)\n",
    "        ys.append(Y)\n",
    "    X_train = np.vstack(xs)\n",
    "    y_train = np.hstack(ys)\n",
    "    X_test, y_test = load_one(os.path.join(ROOT,'test_batch'))\n",
    "    return X_train, X_test, y_train, y_test\n",
    "\n",
    "# getting the data from the folder\n",
    "train_images, validation_images, train_labels, validation_labels = load_all(extract_dir)\n",
    "\n",
    "print('Train images shape: ', train_images.shape)\n",
    "print('Train labels shape: ', train_labels.shape)\n",
    "print('Validation images shape: ', validation_images.shape)\n",
    "print('Validation labels shape: ', validation_labels.shape)"
   ]
  },
  {
   "cell_type": "markdown",
   "metadata": {},
   "source": [
    "The images are stored as four-dimensional arrays.  The first index indicates the image number, the second and third the $x$ and $y$ positions, and the fourth index the color channel.  Each pixel color is a floating point number between 0 and 1.  This convention makes viewing the images with matplotlib possible:"
   ]
  },
  {
   "cell_type": "code",
   "execution_count": 5,
   "metadata": {},
   "outputs": [
    {
     "data": {
      "text/plain": [
       "<matplotlib.image.AxesImage at 0x7fe825c1bc18>"
      ]
     },
     "execution_count": 5,
     "metadata": {},
     "output_type": "execute_result"
    },
    {
     "data": {
      "image/png": "[encoded data removed]",
      "text/plain": [
       "<Figure size 432x288 with 1 Axes>"
      ]
     },
     "metadata": {},
     "output_type": "display_data"
    }
   ],
   "source": [
    "matplotlib.pyplot.imshow(train_images[0])"
   ]
  },
  {
   "cell_type": "markdown",
   "metadata": {},
   "source": [
    "The classes have already been numbered 0-9; those numbers are stored in the vector `train_labels`."
   ]
  },
  {
   "cell_type": "code",
   "execution_count": 6,
   "metadata": {},
   "outputs": [
    {
     "data": {
      "text/plain": [
       "6"
      ]
     },
     "execution_count": 6,
     "metadata": {},
     "output_type": "execute_result"
    }
   ],
   "source": [
    "train_labels[0]"
   ]
  },
  {
   "cell_type": "markdown",
   "metadata": {},
   "source": [
    "The human-readable names associated with this classes are"
   ]
  },
  {
   "cell_type": "code",
   "execution_count": 7,
   "metadata": {},
   "outputs": [],
   "source": [
    "label_names = ['airplane', 'automobile', 'bird', 'cat', 'deer',\n",
    "               'dog', 'frog', 'horse', 'ship', 'truck']"
   ]
  },
  {
   "cell_type": "markdown",
   "metadata": {},
   "source": [
    "so you can see that the image above is a frog.  (Now you see it!)"
   ]
  },
  {
   "cell_type": "markdown",
   "metadata": {},
   "source": [
    "### TensorFlow resets"
   ]
  },
  {
   "cell_type": "markdown",
   "metadata": {},
   "source": [
    "The cell below is a handy tensorflow reset function I will use in this project."
   ]
  },
  {
   "cell_type": "code",
   "execution_count": 17,
   "metadata": {},
   "outputs": [],
   "source": [
    "import tensorflow as tf\n",
    "\n",
    "sess = None\n",
    "\n",
    "def reset_tf():\n",
    "    global sess\n",
    "    if sess:\n",
    "        sess.close()\n",
    "    tf.reset_default_graph()\n",
    "    sess = tf.Session()\n",
    "\n",
    "def reset_vars():\n",
    "    sess.run(tf.global_variables_initializer())\n",
    "    \n",
    "reset_tf()"
   ]
  },
  {
   "cell_type": "markdown",
   "metadata": {},
   "source": [
    "## Perceptual Delta"
   ]
  },
  {
   "cell_type": "markdown",
   "metadata": {},
   "source": [
    "Since we already have a number of labeled images, a simple approach would be to measure the difference between two images, and choose the label corresponding to nearby images.  To do this, we need to develop a metric determine the distance between two images.  We'll make the simplifying (and completely wrong) assumption that this is just the average difference between the colors of the corresponding pixels in the two images.\n",
    "\n",
    "While we could just take RMS difference of the red, green, and blue pixels, let's be slightly more sophisticated and look at human vision for a metric.  After all, we're pretty good at image classifications, so there might be some useful optimization here.\n",
    "\n",
    "It turns out that modeling human perception is [extraordinarily complicated](https://en.wikipedia.org/wiki/Color_difference#CIEDE2000).  We're going to use a [simplified model](https://www.compuphase.com/cmetric.htm):\n",
    "\n",
    "$$\\Delta C \\equiv \\sqrt{2 \\Delta R^2 + 4 \\Delta G^2 + 3 \\Delta B^2 + \\bar R\\left(\\Delta R^2 - \\Delta B^2 \\right)} $$\n",
    "where $(R_1, G_1, B_1)$ and $(R_2, G_2, B_2)$ are the RGB components of the two colors and\n",
    "$$\\begin{align}\n",
    "\\Delta R &= R_1 - R_2 \\\\\n",
    "\\Delta G &= G_1 - G_2 \\\\\n",
    "\\Delta B &= B_1 - B_2 \\\\\n",
    "\\bar R &= \\textstyle\\frac{1}{2}\\left(R_1 + R_2\\right)\n",
    "\\end{align}$$\n",
    "\n",
    "This accounts for the fact that our eyes are most sensitive to green and least sensitive to red, and that perception is not constant with hue.\n",
    "\n",
    "I will build a graph that takes in a series of images, as well as a base image, and returns the average $\\Delta C$ over all pixels between the base image and each image in the series.  It will help us later on to make the generation of this graph a function."
   ]
  },
  {
   "cell_type": "markdown",
   "metadata": {},
   "source": [
    "### Delta_func"
   ]
  },
  {
   "cell_type": "markdown",
   "metadata": {},
   "source": [
    "I will use the first validation image as an example to calculate its distance with all of the training images."
   ]
  },
  {
   "cell_type": "code",
   "execution_count": 9,
   "metadata": {},
   "outputs": [],
   "source": [
    "#this is basis for doing arithmetic in tensorflows \n",
    "import tensorflow as tf\n",
    "\n",
    "g = tf.get_default_graph()\n",
    "sess = tf.Session()\n",
    "images = tf.placeholder(dtype = tf.float32,shape =(None,32,32,3))\n",
    "base = tf.Variable(tf.random_uniform([32,32,3],minval=0,maxval=1))\n",
    "# defining the delta_func so that the code can be reused later on\n",
    "def delta_func(images,base):\n",
    "    sqs_diff = tf.squared_difference(images,base)\n",
    "    #need to divide by 2 instead of multiply by 0.5\n",
    "    r_mean = tf.add(images[:,:,:,0]/2,base[:,:,0]/2)\n",
    "    tot_sum = tf.sqrt(2*sqs_diff[:,:,:,0]+4*sqs_diff[:,:,:,1]+3*sqs_diff[:,:,:,2]+\n",
    "                      r_mean*(sqs_diff[:,:,:,0]-sqs_diff[:,:,:,2]))\n",
    "    return tf.reduce_mean(tot_sum,(1,2))\n",
    "delta_c = delta_func(images,base)\n",
    "deltas = sess.run(delta_c,{images:train_images,base:validation_images[0]})"
   ]
  },
  {
   "cell_type": "markdown",
   "metadata": {},
   "source": [
    "From these, find the 100 closest images from the training set to this image."
   ]
  },
  {
   "cell_type": "code",
   "execution_count": 7,
   "metadata": {},
   "outputs": [
    {
     "data": {
      "text/plain": [
       "array([27912, 23437, 47732, 25053, 29251,  3616, 43445,  5555, 46911,\n",
       "       16269, 45450, 47893, 27833, 41078,  6385, 32788,  2108, 44366,\n",
       "       40857, 18619, 32596, 43840, 42187,  7982, 47629, 14298, 29521,\n",
       "       15860, 48219, 25953, 24522,  1363, 32891, 18702, 19759, 16247,\n",
       "        5859,  3303, 37982,  5463,  9738,  8448,  4881, 14185, 18347,\n",
       "       35163, 13960, 39700,  7837, 36899, 31793, 11317, 29615, 10413,\n",
       "       45178, 16021, 40089,  6224, 42620, 14932, 27543, 18868, 46440,\n",
       "       17882, 44700, 11784, 24729, 37317, 45209, 10709, 17501, 10440,\n",
       "       46378, 32430, 15659, 21665, 25680, 30766, 46671, 43551, 32145,\n",
       "       20364, 11465, 40643, 12229, 23235,  6878, 36196, 33346,  2986,\n",
       "       22061, 16130, 43791,  8380, 17921, 45047,  1582, 32047,  3060,\n",
       "        1015])"
      ]
     },
     "execution_count": 7,
     "metadata": {},
     "output_type": "execute_result"
    }
   ],
   "source": [
    "np.argsort(deltas)[:100]"
   ]
  },
  {
   "cell_type": "markdown",
   "metadata": {},
   "source": [
    "> **Aside:** Essentially, we've started to implement a k-nearest neighbors algorithm, using this perceptual distance as our metric.  If we ran the difference between all of the validation images and each of the training images, we could make a prediction from the nearest images for each."
   ]
  },
  {
   "cell_type": "markdown",
   "metadata": {},
   "source": [
    "## Smallest delta model"
   ]
  },
  {
   "cell_type": "markdown",
   "metadata": {},
   "source": [
    "Instead of comparing each validation image to each training image, let's generate a \"typical\" image for each class.  This typical image will be the one that minimizes the total perceptual delta from all training images in this class.  We could do that through some clever averaging, but let's treat it as a minimization problem.  \n",
    "\n",
    "This problem will have two steps, the first step is to train a typical image for each class in the training set, the second will be to make predictions on the validation set.  These predictions will be based on the closest \"typical\" image trained in the first step.\n",
    "\n",
    "Make the typical image a TensorFlow variable, starting with random pixel values."
   ]
  },
  {
   "cell_type": "markdown",
   "metadata": {},
   "source": [
    "### With delta_func"
   ]
  },
  {
   "cell_type": "code",
   "execution_count": 12,
   "metadata": {},
   "outputs": [],
   "source": [
    "#this block of code uses the delta_func defined above\n",
    "LEARNING_RATE = 0.5\n",
    "Iterations = 500\n",
    "delta_c = delta_func(images,base)\n",
    "error = tf.reduce_mean(delta_c)\n",
    "train = tf.train.GradientDescentOptimizer(LEARNING_RATE).minimize(error)"
   ]
  },
  {
   "cell_type": "markdown",
   "metadata": {},
   "source": [
    "Now, use gradient descent to optimize the typical image to minimize the error.  Do this for each of the ten classes."
   ]
  },
  {
   "cell_type": "code",
   "execution_count": null,
   "metadata": {},
   "outputs": [],
   "source": [
    "from tqdm import tqdm_notebook\n",
    "reset_vars()\n",
    "n = np.zeros([10,32,32,3])\n",
    "for i in tqdm_notebook(range(10)):\n",
    "    for j in tqdm_notebook(range(Iterations)):\n",
    "        sess.run(train,feed_dict={images:train_images[train_labels==i]})\n",
    "    n[i] = sess.run(base)"
   ]
  },
  {
   "cell_type": "code",
   "execution_count": 36,
   "metadata": {},
   "outputs": [
    {
     "name": "stdout",
     "output_type": "stream",
     "text": [
      "Accuracy for smallest delta model is: 25.13 %\n"
     ]
    }
   ],
   "source": [
    "predict = [np.argmin(sess.run(delta_c,{images:n,base:a})) \n",
    "           for a in validation_images]\n",
    "# calculate the accuracy\n",
    "accuracy_2 = (sum(np.array(predict) == validation_labels) / \n",
    "                                validation_labels.shape[0] * 100)\n",
    "\n",
    "print('Accuracy for smallest delta model is:',\n",
    "      '%0.2f'%(accuracy_2,),'%',sep = ' ')"
   ]
  },
  {
   "cell_type": "markdown",
   "metadata": {},
   "source": [
    "Make a prediction for each validation image based on which typical image is nearest under our distance metric.  Return a list of 10,000 integers, representing the predicted class of each validation image. The overall accuracy is poor for this model at only **25.13%** ."
   ]
  },
  {
   "cell_type": "markdown",
   "metadata": {},
   "source": [
    "## Softmax model"
   ]
  },
  {
   "cell_type": "markdown",
   "metadata": {},
   "source": [
    "Looking only at the smallest distance is throwing some information away.  We would expect some classes to have more variation that others.  Also, we would expect correlation between the classes&mdash;a small distance to *cat* is probably more likely for *dog* than for *airplane*.\n",
    "\n",
    "Instead of a trying to work out these effects heuristically, let the computer do it.  Build a softmax model that takes as input features the distances from all ten typical images and makes a class prediction from those.  Again, use this to predict the class for each of the validation images."
   ]
  },
  {
   "cell_type": "markdown",
   "metadata": {},
   "source": [
    "Calculate the distance from the 10 \"typical\" images:"
   ]
  },
  {
   "cell_type": "code",
   "execution_count": 37,
   "metadata": {},
   "outputs": [],
   "source": [
    "def get_dist(data):\n",
    "    dist = []\n",
    "    dist.append([sess.run(delta_c,{images:n,base:a}) for a in data])\n",
    "    return np.vstack(dist)\n",
    "dist_train = get_dist(train_images)\n",
    "dist_test = get_dist(validation_images)"
   ]
  },
  {
   "cell_type": "markdown",
   "metadata": {},
   "source": [
    "Split the training data set for a small test set, build a softmax model:"
   ]
  },
  {
   "cell_type": "code",
   "execution_count": 38,
   "metadata": {},
   "outputs": [],
   "source": [
    "from sklearn.model_selection import train_test_split\n",
    "X_train,X_test,y_train,y_test = train_test_split(dist_train, train_labels, \n",
    "                                                 test_size=0.02, random_state=0)\n",
    "\n",
    "reset_tf()\n",
    "Iterations = 10000\n",
    "LEARNING_RATE = 0.8\n",
    "\n",
    "x = tf.placeholder(tf.float32, [None,10], name=\"features\")\n",
    "y_labels = tf.placeholder(tf.int64, [None,], name=\"labels\")\n",
    "\n",
    "W = tf.Variable(tf.zeros([10, 10]), name=\"weights\")\n",
    "b = tf.Variable(tf.zeros([10]), name=\"biases\")\n",
    "y = tf.matmul(x, W) + b\n",
    "\n",
    "y_labels_one = tf.one_hot(y_labels, 10)\n",
    "loss = tf.reduce_mean(tf.nn.softmax_cross_entropy_with_logits_v2(logits=y, \n",
    "                                                              labels=y_labels_one))\n",
    "train = tf.train.GradientDescentOptimizer(LEARNING_RATE).minimize(loss)\n",
    "\n",
    "accuracy = tf.reduce_mean(tf.cast(tf.equal(tf.argmax(y, 1),\n",
    "                                           y_labels),\n",
    "                                  tf.float32))"
   ]
  },
  {
   "cell_type": "code",
   "execution_count": 41,
   "metadata": {},
   "outputs": [
    {
     "data": {
      "application/vnd.jupyter.widget-view+json": {
       "model_id": "e3334d6b526e431799cb2855df2ce955",
       "version_major": 2,
       "version_minor": 0
      },
      "text/html": [
       "<p>Failed to display Jupyter Widget of type <code>HBox</code>.</p>\n",
       "<p>\n",
       "  If you're reading this message in the Jupyter Notebook or JupyterLab Notebook, it may mean\n",
       "  that the widgets JavaScript is still loading. If this message persists, it\n",
       "  likely means that the widgets JavaScript library is either not installed or\n",
       "  not enabled. See the <a href=\"https://ipywidgets.readthedocs.io/en/stable/user_install.html\">Jupyter\n",
       "  Widgets Documentation</a> for setup instructions.\n",
       "</p>\n",
       "<p>\n",
       "  If you're reading this message in another frontend (for example, a static\n",
       "  rendering on GitHub or <a href=\"https://nbviewer.jupyter.org/\">NBViewer</a>),\n",
       "  it may mean that your frontend doesn't currently support widgets.\n",
       "</p>\n"
      ],
      "text/plain": [
       "HBox(children=(IntProgress(value=0, max=10000), HTML(value='')))"
      ]
     },
     "metadata": {},
     "output_type": "display_data"
    },
    {
     "name": "stdout",
     "output_type": "stream",
     "text": [
      "Loss : 2.29979 , Accuracy: 0.10000\n",
      "Loss : 2.11447 , Accuracy: 0.21900\n",
      "Loss : 2.08222 , Accuracy: 0.24300\n",
      "Loss : 2.06510 , Accuracy: 0.25800\n",
      "Loss : 2.05338 , Accuracy: 0.26400\n",
      "Loss : 2.04446 , Accuracy: 0.26800\n",
      "Loss : 2.03725 , Accuracy: 0.27100\n",
      "Loss : 2.03118 , Accuracy: 0.27200\n",
      "Loss : 2.02590 , Accuracy: 0.27300\n",
      "Loss : 2.02121 , Accuracy: 0.27300\n"
     ]
    }
   ],
   "source": [
    "reset_vars()\n",
    "for i in tqdm_notebook(range(Iterations)):\n",
    "    sess.run(train,\n",
    "             feed_dict={x: X_train, \n",
    "                        y_labels: y_train})\n",
    "    if i % 1000 == 0:\n",
    "        l, a = sess.run([loss, accuracy],\n",
    "                       feed_dict={x: X_test, \n",
    "                                  y_labels: y_test})\n",
    "        print(\"Loss : %0.5f , Accuracy: %0.5f\" % (l,a))"
   ]
  },
  {
   "cell_type": "markdown",
   "metadata": {},
   "source": [
    "We can see that the softmax does improve the acurracy in the training set. Lets see how the model performs on validation set:"
   ]
  },
  {
   "cell_type": "code",
   "execution_count": 43,
   "metadata": {},
   "outputs": [
    {
     "name": "stdout",
     "output_type": "stream",
     "text": [
      "Accuracy for smallest delta model is: 28.34 %\n"
     ]
    }
   ],
   "source": [
    "predicted = tf.argmax(y,1)\n",
    "predict = sess.run(predicted,{x:dist_test})\n",
    "# calculate the accuracy\n",
    "accuracy_3 = (sum(np.array(predict) == validation_labels) / \n",
    "                                validation_labels.shape[0] * 100)\n",
    "\n",
    "print('Accuracy for softmax model is:',\n",
    "      '%0.2f'%(accuracy_3,),'%',sep = ' ')"
   ]
  },
  {
   "cell_type": "markdown",
   "metadata": {},
   "source": [
    "Overall, considering the distance with all the 10 typical images increases the accuracy to **28.34 %** . However, the improvement is quite small."
   ]
  },
  {
   "cell_type": "markdown",
   "metadata": {},
   "source": [
    "## Fully-connected model"
   ]
  },
  {
   "cell_type": "markdown",
   "metadata": {},
   "source": [
    "The previous model still makes the assumption that this distance metric is the right measure to use.  In this problem, we'll give this up.  Build a multi-layer fully-connected neural network that takes the pixel values as input and yields a class prediction as output."
   ]
  },
  {
   "cell_type": "markdown",
   "metadata": {},
   "source": [
    "### Two hidden layers with mini-batch processing / boostraping / early stopping"
   ]
  },
  {
   "cell_type": "markdown",
   "metadata": {},
   "source": [
    "I will use the dropout and early stopping to prevent the overfitting. The fully-connected model will have 2 hidden layers. Furthermore, the training utilizes the mini-batch to accelerate the process. Boostraping is also applied to help the training process."
   ]
  },
  {
   "cell_type": "code",
   "execution_count": 51,
   "metadata": {},
   "outputs": [],
   "source": [
    "# prepare the foler for the early stopping\n",
    "if not os.path.exists('my_model'):\n",
    "    os.makedir('my_model')"
   ]
  },
  {
   "cell_type": "code",
   "execution_count": 44,
   "metadata": {},
   "outputs": [],
   "source": [
    "from sklearn.model_selection import train_test_split\n",
    "X_train,X_test,y_train,y_test = train_test_split(train_images, train_labels, \n",
    "                                                 test_size=0.1, random_state=0)\n",
    "\n",
    "reset_tf()\n",
    "image_size = 32 * 32 * 3\n",
    "Iterations = 60000\n",
    "LEARNING_RATE = 0.5\n",
    "hidden_size = 50\n",
    "batch_size = 100\n",
    "count_size = 10 #parameter to control the early stopping rate\n",
    "count = 0 #early stopping counter\n",
    "loss_min = 100 #store the running loss minima\n",
    "dropout = 0.5 #dropout rate\n",
    "\n",
    "x = tf.placeholder(tf.float32, [None, image_size], name=\"pixels\")\n",
    "y_labels = tf.placeholder(tf.int64, [None,], name=\"labels\")\n",
    "#training label is for dropout test, a boolean value to differentiate\n",
    "#training vs testing\n",
    "training = tf.placeholder(tf.bool, name=\"training\")\n",
    "\n",
    "drop1 = tf.layers.dropout(x, dropout, training=training)\n",
    "hidden1 = tf.layers.dense(drop1, hidden_size, activation=tf.nn.sigmoid, use_bias=True,\n",
    "    kernel_initializer=tf.truncated_normal_initializer(stddev=image_size**-0.5))\n",
    "\n",
    "drop2 = tf.layers.dropout(hidden1, dropout, training=training)\n",
    "hidden2 = tf.layers.dense(drop2, hidden_size, activation=tf.nn.sigmoid, use_bias=True,\n",
    "    kernel_initializer=tf.truncated_normal_initializer(stddev=hidden_size**-0.5))\n",
    "\n",
    "drop3 = tf.layers.dropout(hidden2, dropout, training=training)\n",
    "y = tf.layers.dense(drop3, 10, activation=None, use_bias=True,\n",
    "    kernel_initializer=tf.truncated_normal_initializer(stddev=hidden_size**-0.5))\n",
    "\n",
    "y_labels_one = tf.one_hot(y_labels, 10)\n",
    "loss = tf.reduce_mean(tf.nn.softmax_cross_entropy_with_logits_v2(logits=y, \n",
    "                                                              labels=y_labels_one))\n",
    "train = tf.train.GradientDescentOptimizer(LEARNING_RATE).minimize(loss)\n",
    "\n",
    "accuracy = tf.reduce_mean(tf.cast(tf.equal(tf.argmax(y, 1),\n",
    "                                           y_labels),\n",
    "                                  tf.float32))\n",
    "#make sure this step comes at the very end\n",
    "saver = tf.train.Saver(tf.global_variables())"
   ]
  },
  {
   "cell_type": "code",
   "execution_count": 45,
   "metadata": {},
   "outputs": [
    {
     "data": {
      "application/vnd.jupyter.widget-view+json": {
       "model_id": "22e050513c604d29871c99b269a38b2c",
       "version_major": 2,
       "version_minor": 0
      },
      "text/html": [
       "<p>Failed to display Jupyter Widget of type <code>HBox</code>.</p>\n",
       "<p>\n",
       "  If you're reading this message in the Jupyter Notebook or JupyterLab Notebook, it may mean\n",
       "  that the widgets JavaScript is still loading. If this message persists, it\n",
       "  likely means that the widgets JavaScript library is either not installed or\n",
       "  not enabled. See the <a href=\"https://ipywidgets.readthedocs.io/en/stable/user_install.html\">Jupyter\n",
       "  Widgets Documentation</a> for setup instructions.\n",
       "</p>\n",
       "<p>\n",
       "  If you're reading this message in another frontend (for example, a static\n",
       "  rendering on GitHub or <a href=\"https://nbviewer.jupyter.org/\">NBViewer</a>),\n",
       "  it may mean that your frontend doesn't currently support widgets.\n",
       "</p>\n"
      ],
      "text/plain": [
       "HBox(children=(IntProgress(value=0, max=60000), HTML(value='')))"
      ]
     },
     "metadata": {},
     "output_type": "display_data"
    },
    {
     "name": "stdout",
     "output_type": "stream",
     "text": [
      "Loss : 2.32958 , Accuracy: 0.09660\n",
      "Loss : 1.85219 , Accuracy: 0.32260\n",
      "Loss : 1.79033 , Accuracy: 0.35700\n",
      "Loss : 1.75280 , Accuracy: 0.37020\n",
      "Loss : 1.75138 , Accuracy: 0.37320\n",
      "Loss : 1.72416 , Accuracy: 0.37700\n",
      "Loss : 1.73156 , Accuracy: 0.36920\n",
      "Loss : 1.71180 , Accuracy: 0.38740\n",
      "Loss : 1.71484 , Accuracy: 0.38460\n",
      "Loss : 1.71115 , Accuracy: 0.38140\n",
      "Loss : 1.70565 , Accuracy: 0.38360\n",
      "Loss : 1.70129 , Accuracy: 0.39060\n",
      "Loss : 1.69582 , Accuracy: 0.39100\n",
      "Loss : 1.69721 , Accuracy: 0.39540\n",
      "Loss : 1.69618 , Accuracy: 0.39500\n",
      "Loss : 1.69542 , Accuracy: 0.38980\n",
      "Loss : 1.68423 , Accuracy: 0.39400\n",
      "Loss : 1.68407 , Accuracy: 0.39860\n",
      "Loss : 1.68935 , Accuracy: 0.39560\n",
      "Loss : 1.68070 , Accuracy: 0.39080\n"
     ]
    }
   ],
   "source": [
    "from tqdm import tqdm_notebook\n",
    "reset_vars()\n",
    "for i in tqdm_notebook(range(Iterations)):\n",
    "    #minibatch training with boostraping\n",
    "    j = np.random.choice(len(y_train), batch_size, replace=True)\n",
    "    sess.run(train,\n",
    "             feed_dict={x: X_train[j].reshape(-1,image_size), \n",
    "                        y_labels: y_train[j],\n",
    "                        training: True})\n",
    "    if i % 3000 == 0:\n",
    "        l, a = sess.run([loss, accuracy],\n",
    "                       feed_dict={x: X_test.reshape(-1,image_size), \n",
    "                                  y_labels: y_test,\n",
    "                                  training: False})\n",
    "        print(\"Loss : %0.5f , Accuracy: %0.5f\" % (l,a))\n",
    "        if count >= count_size:\n",
    "            saver.restore(sess,saver.last_checkpoints[-1])\n",
    "            break\n",
    "        else:\n",
    "            if l < loss_min:\n",
    "                loss_min = l\n",
    "                count = 0\n",
    "                saver.save(sess,'my_model/my_model',global_step=i)\n",
    "            else:\n",
    "                count += 1"
   ]
  },
  {
   "cell_type": "code",
   "execution_count": 46,
   "metadata": {},
   "outputs": [
    {
     "name": "stdout",
     "output_type": "stream",
     "text": [
      "Accuracy for smallest delta model is: 41.56 %\n"
     ]
    }
   ],
   "source": [
    "predicted = tf.argmax(y,1)\n",
    "predict = sess.run(predicted,{x:validation_images.reshape(-1,image_size),\n",
    "                              training: False})\n",
    "accuracy_4 = (sum(np.array(predict) == validation_labels) / \n",
    "                                validation_labels.shape[0] * 100)\n",
    "\n",
    "print('Accuracy for fully-connected model is:',\n",
    "      '%0.2f'%(accuracy_4,),'%',sep = ' ')"
   ]
  },
  {
   "cell_type": "markdown",
   "metadata": {},
   "source": [
    "The fully-connected model does have a great improvement over the previous models. The accuracy increases to **39.08 %** on the training set and **41.56 %** on the validation set."
   ]
  },
  {
   "cell_type": "markdown",
   "metadata": {},
   "source": [
    "### keras version"
   ]
  },
  {
   "cell_type": "markdown",
   "metadata": {},
   "source": [
    "Keras is a great platform for performing deep learning with neural networks. I also implement the fully-connected model with 2 hiddent and 3 dropout layers in the Keras framework. Early stopping is applied to prevent over fitting as well:"
   ]
  },
  {
   "cell_type": "code",
   "execution_count": null,
   "metadata": {},
   "outputs": [],
   "source": [
    "from tensorflow import keras\n",
    "from sklearn.model_selection import train_test_split\n",
    "X_train,X_test,y_train,y_test = train_test_split(train_images, train_labels, \n",
    "                                                 test_size=0.02, random_state=0)\n",
    "reset_tf()\n",
    "image_size = 32 * 32 * 3\n",
    "Iterations = 60000\n",
    "hidden_size = 50\n",
    "batch_size = 100\n",
    "dropout = 0.5 #dropout rate\n",
    "\n",
    "def one_hot(arr, nc):\n",
    "    \"\"\"one hot encode array, assume numerical labels\"\"\"\n",
    "    one_hot = np.zeros((arr.shape[0], nc))\n",
    "    for i, ele in enumerate(arr):\n",
    "        one_hot[i][ele] = 1\n",
    "    return one_hot\n",
    "y_train = one_hot(y_train, 10)\n",
    "y_test = one_hot(y_test, 10)\n",
    "\n",
    "input_layer = keras.layers.Input(shape=(32,32,3))\n",
    "x = keras.layers.Flatten()(input_layer)\n",
    "x = keras.layers.Dropout(0.5)(x)\n",
    "x = keras.layers.Dense(hidden_size, activation='sigmoid')(x)\n",
    "x = keras.layers.Dropout(0.5)(x)\n",
    "x = keras.layers.Dense(hidden_size, activation='sigmoid')(x)\n",
    "x = keras.layers.Dropout(0.5)(x)\n",
    "y = keras.layers.Dense(10, activation='softmax')(x)\n",
    "\n",
    "model = keras.models.Model(inputs=input_layer, outputs=y)\n",
    "model.compile(loss='categorical_crossentropy',\n",
    "              optimizer='sgd',\n",
    "              metrics=['accuracy'])\n",
    "checkpointer = keras.callbacks.ModelCheckpoint(filepath='./my_model/keras_model.hdf5',\n",
    "                                               monitor='val_loss',\n",
    "                                               verbose=1, save_best_only=True)\n",
    "earlystopping = keras.callbacks.EarlyStopping(monitor='val_loss', patience=10,\n",
    "                                              verbose=1, min_delta=.001)\n",
    "history = model.fit(X_train, y_train,\n",
    "                    epochs=500,\n",
    "                    batch_size=batch_size,\n",
    "                    validation_data=(X_test, y_test),\n",
    "                    callbacks=[checkpointer, earlystopping])\n",
    "predicted = model.predict(validation_images)\n",
    "predict = np.argmax(predicted,1)"
   ]
  },
  {
   "cell_type": "code",
   "execution_count": 7,
   "metadata": {},
   "outputs": [
    {
     "name": "stdout",
     "output_type": "stream",
     "text": [
      "Accuracy for fully-connected model with Keras is: 36.27 %\n"
     ]
    }
   ],
   "source": [
    "accuracy_4_k = (sum(predict == validation_labels) / \n",
    "                                validation_labels.shape[0] * 100)\n",
    "\n",
    "print('Accuracy for fully-connected model with Keras is:',\n",
    "      '%0.2f'%(accuracy_4_k,),'%',sep = ' ')"
   ]
  },
  {
   "cell_type": "markdown",
   "metadata": {},
   "source": [
    "The fully-connected model with Kera also provides a similar result. The accuracy increases to **35.40 %** on the training set and **36.27 %** on the validation set. The small difference might lie on the different training parameters."
   ]
  },
  {
   "cell_type": "markdown",
   "metadata": {},
   "source": [
    "## Convolutional model"
   ]
  },
  {
   "cell_type": "markdown",
   "metadata": {},
   "source": [
    "Convolutional neural networks have had a lot of success in image classification.  I will build a neural network with 3 convolutional layers, 3 Max-pooling layers, a fully-connected layer with 2 hidden layers to improve the performance."
   ]
  },
  {
   "cell_type": "markdown",
   "metadata": {},
   "source": [
    "### 3 Convolution/Max-pooling plus 2 fully-connected"
   ]
  },
  {
   "cell_type": "code",
   "execution_count": 8,
   "metadata": {},
   "outputs": [],
   "source": [
    "from sklearn.model_selection import train_test_split\n",
    "X_train,X_test,y_train,y_test = train_test_split(train_images, train_labels, \n",
    "                                                 test_size=0.02, random_state=0)\n",
    "\n",
    "reset_tf()\n",
    "image_size = 32\n",
    "n_channels = 3\n",
    "image_size_flat = 32 * 32 * 3\n",
    "filt_size = [5,5]\n",
    "Iterations = 60000\n",
    "LEARNING_RATE = 0.5\n",
    "hidden_size = 50\n",
    "batch_size = 50 #smaller number train much faster\n",
    "count_size = 8 #parameter to control the early stopping rate\n",
    "count = 0 #early stopping counter\n",
    "loss_min = 100 #store the running loss minima\n",
    "dropout = 0.5 #dropout rate\n",
    "\n",
    "x = tf.placeholder(tf.float32, [None, image_size, image_size, n_channels], \n",
    "                                               name=\"pixels\")\n",
    "y_labels = tf.placeholder(tf.int64, [None,], name=\"labels\")\n",
    "#training label is for dropout test, a boolean value to differentiate\n",
    "#training vs testing\n",
    "training = tf.placeholder(tf.bool, name=\"training\")\n",
    "#first layer of convolution and max_cooling\n",
    "out_conv1 = tf.layers.conv2d(x, 48, filt_size, padding='same',\n",
    "                             activation = tf.nn.relu, name=\"convolution1\")\n",
    "out_pool1 = tf.layers.max_pooling2d(out_conv1, pool_size=(2, 2), \n",
    "                                   strides=(2,2), padding='same')\n",
    "#second layer of convolution and max_cooling\n",
    "out_conv2 = tf.layers.conv2d(out_pool1, 96, [1,1], padding='same', \n",
    "                            activation=tf.nn.relu, name=\"convolution2\")\n",
    "out_pool2 = tf.layers.max_pooling2d(out_conv2, pool_size=(2, 2), \n",
    "                                   strides=(2,2), padding='same')\n",
    "#third layer of convolution and max_cooling\n",
    "out_conv3 = tf.layers.conv2d(out_pool2, 144, filt_size, padding='same', \n",
    "                            activation=tf.nn.relu, name=\"convolution3\")\n",
    "out_pool3 = tf.layers.max_pooling2d(out_conv3, pool_size=(2, 2), \n",
    "                                   strides=(2,2), padding='same')\n",
    "#flatten out the images\n",
    "out_pool_reshape = tf.reshape(out_pool3, [-1, out_pool3.shape[1:].num_elements()])\n",
    "\n",
    "#full connected model with dropout\n",
    "drop1 = tf.layers.dropout(out_pool_reshape, dropout, training=training)\n",
    "hidden1 = tf.layers.dense(drop1, hidden_size, activation=tf.nn.relu)\n",
    "\n",
    "drop2 = tf.layers.dropout(hidden1, dropout, training=training)\n",
    "hidden2 = tf.layers.dense(drop2, hidden_size, activation=tf.nn.relu)\n",
    "\n",
    "drop3 = tf.layers.dropout(hidden2, dropout, training=training)\n",
    "y = tf.layers.dense(drop3, 10, activation=None)\n",
    "\n",
    "softmax = tf.nn.softmax_cross_entropy_with_logits_v2\n",
    "loss = tf.reduce_mean(softmax(logits=y, \n",
    "                              labels=tf.one_hot(y_labels, 10)))\n",
    "train = tf.train.AdamOptimizer().minimize(loss)\n",
    "\n",
    "accuracy = tf.reduce_mean(tf.cast(tf.equal(tf.argmax(y, 1),\n",
    "                                           y_labels),\n",
    "                                  tf.float32))\n",
    "#make sure this step comes at the very end\n",
    "saver = tf.train.Saver(tf.global_variables())"
   ]
  },
  {
   "cell_type": "code",
   "execution_count": 9,
   "metadata": {},
   "outputs": [
    {
     "data": {
      "application/vnd.jupyter.widget-view+json": {
       "model_id": "23e7838316e241ff80913e0864c4687e",
       "version_major": 2,
       "version_minor": 0
      },
      "text/html": [
       "<p>Failed to display Jupyter Widget of type <code>HBox</code>.</p>\n",
       "<p>\n",
       "  If you're reading this message in the Jupyter Notebook or JupyterLab Notebook, it may mean\n",
       "  that the widgets JavaScript is still loading. If this message persists, it\n",
       "  likely means that the widgets JavaScript library is either not installed or\n",
       "  not enabled. See the <a href=\"https://ipywidgets.readthedocs.io/en/stable/user_install.html\">Jupyter\n",
       "  Widgets Documentation</a> for setup instructions.\n",
       "</p>\n",
       "<p>\n",
       "  If you're reading this message in another frontend (for example, a static\n",
       "  rendering on GitHub or <a href=\"https://nbviewer.jupyter.org/\">NBViewer</a>),\n",
       "  it may mean that your frontend doesn't currently support widgets.\n",
       "</p>\n"
      ],
      "text/plain": [
       "HBox(children=(IntProgress(value=0, max=60000), HTML(value='')))"
      ]
     },
     "metadata": {},
     "output_type": "display_data"
    },
    {
     "name": "stdout",
     "output_type": "stream",
     "text": [
      "Loss : 2.30383 , Accuracy: 0.09600\n",
      "Loss : 1.64179 , Accuracy: 0.39800\n",
      "Loss : 1.42007 , Accuracy: 0.46600\n",
      "Loss : 1.30282 , Accuracy: 0.53700\n",
      "Loss : 1.22545 , Accuracy: 0.56700\n",
      "Loss : 1.18845 , Accuracy: 0.56300\n",
      "Loss : 1.13927 , Accuracy: 0.59500\n",
      "Loss : 1.13569 , Accuracy: 0.58800\n",
      "Loss : 1.05090 , Accuracy: 0.63600\n",
      "Loss : 1.04019 , Accuracy: 0.62900\n",
      "Loss : 1.02505 , Accuracy: 0.65300\n",
      "Loss : 0.97560 , Accuracy: 0.65600\n",
      "Loss : 0.98128 , Accuracy: 0.64700\n",
      "Loss : 0.95615 , Accuracy: 0.67100\n",
      "Loss : 0.95077 , Accuracy: 0.66500\n",
      "Loss : 0.93515 , Accuracy: 0.68100\n",
      "Loss : 0.87743 , Accuracy: 0.67900\n",
      "Loss : 0.95984 , Accuracy: 0.65800\n",
      "Loss : 0.89669 , Accuracy: 0.68500\n",
      "Loss : 0.89472 , Accuracy: 0.70200\n",
      "Loss : 0.91620 , Accuracy: 0.67800\n",
      "Loss : 0.91718 , Accuracy: 0.68200\n",
      "Loss : 0.87746 , Accuracy: 0.68900\n",
      "Loss : 0.85581 , Accuracy: 0.71400\n",
      "Loss : 0.85413 , Accuracy: 0.71900\n",
      "Loss : 0.84346 , Accuracy: 0.69800\n",
      "Loss : 0.82681 , Accuracy: 0.72400\n",
      "Loss : 0.86103 , Accuracy: 0.69900\n",
      "Loss : 0.87224 , Accuracy: 0.69800\n",
      "Loss : 0.81761 , Accuracy: 0.72900\n",
      "Loss : 0.88021 , Accuracy: 0.72000\n",
      "Loss : 0.84340 , Accuracy: 0.71200\n",
      "Loss : 0.83959 , Accuracy: 0.71200\n",
      "Loss : 0.86399 , Accuracy: 0.70100\n",
      "Loss : 0.83600 , Accuracy: 0.72400\n",
      "Loss : 0.84796 , Accuracy: 0.70900\n",
      "Loss : 0.83879 , Accuracy: 0.72600\n",
      "Loss : 0.84353 , Accuracy: 0.70800\n",
      "Loss : 0.82992 , Accuracy: 0.73100\n",
      "INFO:tensorflow:Restoring parameters from my_model/my_model-29000\n"
     ]
    }
   ],
   "source": [
    "from tqdm import tqdm_notebook\n",
    "reset_vars()\n",
    "for i in tqdm_notebook(range(Iterations)):\n",
    "    #minibatch training with boostraping\n",
    "    j = np.random.choice(len(y_train), batch_size, replace=True)\n",
    "    sess.run(train,\n",
    "             feed_dict={x: X_train[j], \n",
    "                        y_labels: y_train[j],\n",
    "                        training: True})\n",
    "    if i % 1000 == 0:\n",
    "        l, a = sess.run([loss, accuracy],\n",
    "                       feed_dict={x: X_test, \n",
    "                                  y_labels: y_test,\n",
    "                                  training: False})\n",
    "        print(\"Loss : %0.5f , Accuracy: %0.5f\" % (l,a))\n",
    "        if count >= count_size:\n",
    "            saver.restore(sess,saver.last_checkpoints[-1])\n",
    "            break\n",
    "        else:\n",
    "            if l < loss_min:\n",
    "                loss_min = l\n",
    "                count = 0\n",
    "                #make sure there is a local folder called 'my_model'\n",
    "                saver.save(sess,'my_model/my_model',global_step=i)\n",
    "            else:\n",
    "                count += 1"
   ]
  },
  {
   "cell_type": "code",
   "execution_count": 10,
   "metadata": {},
   "outputs": [
    {
     "name": "stdout",
     "output_type": "stream",
     "text": [
      "INFO:tensorflow:Restoring parameters from my_model/my_model-29000\n",
      "Accuracy for convolutional model is: 71.78 %\n"
     ]
    }
   ],
   "source": [
    "saver.restore(sess,saver.last_checkpoints[-1])\n",
    "predicted = tf.argmax(y,1)\n",
    "predict = sess.run(predicted,{x:validation_images,\n",
    "                              training: False})\n",
    "accuracy_5 = (sum(predict == validation_labels) / \n",
    "                                validation_labels.shape[0] * 100)\n",
    "\n",
    "print('Accuracy for convolutional model is:',\n",
    "      '%0.2f'%(accuracy_5,),'%',sep = ' ')"
   ]
  },
  {
   "cell_type": "markdown",
   "metadata": {},
   "source": [
    "The convolutional model does give a great boost in the metics. The accuracy increases to **72.90 %** in the training set, and **71.78 %** in the validation set."
   ]
  },
  {
   "cell_type": "markdown",
   "metadata": {},
   "source": [
    "### keras version"
   ]
  },
  {
   "cell_type": "code",
   "execution_count": null,
   "metadata": {},
   "outputs": [],
   "source": [
    "#it seems that only one keras session a time. Need to close the notebook\n",
    "#if another version of keras needs to run\n",
    "from tensorflow import keras\n",
    "from sklearn.model_selection import train_test_split\n",
    "X_train,X_test,y_train,y_test = train_test_split(train_images, train_labels, \n",
    "                                                 test_size=0.02, random_state=0)\n",
    "#the target of the label needs to convert beforehand\n",
    "def one_hot(arr, nc):\n",
    "    \"\"\"one hot encode array, assume numerical labels\"\"\"\n",
    "    one_hot = np.zeros((arr.shape[0], nc))\n",
    "    for i, ele in enumerate(arr):\n",
    "        one_hot[i][ele] = 1\n",
    "    return one_hot\n",
    "y_train = one_hot(y_train, 10)\n",
    "y_test = one_hot(y_test, 10)\n",
    "\n",
    "reset_tf()\n",
    "image_size = 32 * 32 * 3\n",
    "epochs = 100\n",
    "hidden_size = 50\n",
    "batch_size = 100\n",
    "dropout = 0.5 #dropout rate\n",
    "\n",
    "input_layer = keras.layers.Input(shape=(32,32,3))\n",
    "#convolution layer\n",
    "x = keras.layers.Conv2D(filters = 48,kernel_size=(3,3),padding='same',\n",
    "                        activation='relu')(input_layer)\n",
    "x = keras.layers.MaxPooling2D(pool_size=(2, 2), strides=(2, 2), \n",
    "                              padding='same')(x)\n",
    "x = keras.layers.Conv2D(filters = 96,kernel_size=(1,1),padding='same',\n",
    "                        activation='relu')(x)\n",
    "x = keras.layers.MaxPooling2D(pool_size=(2, 2), strides=(2, 2), \n",
    "                              padding='same')(x)\n",
    "x = keras.layers.Conv2D(filters = 144,kernel_size=(3,3),padding='same',\n",
    "                        activation='relu')(x)\n",
    "x = keras.layers.MaxPooling2D(pool_size=(2, 2), strides=(2, 2), \n",
    "                              padding='same')(x)\n",
    "#full-connected layer\n",
    "x = keras.layers.Flatten()(x)\n",
    "x = keras.layers.Dropout(0.5)(x)\n",
    "x = keras.layers.Dense(hidden_size, activation='sigmoid')(x)\n",
    "x = keras.layers.Dropout(0.5)(x)\n",
    "x = keras.layers.Dense(hidden_size, activation='sigmoid')(x)\n",
    "x = keras.layers.Dropout(0.5)(x)\n",
    "y = keras.layers.Dense(10, activation='softmax')(x)\n",
    "\n",
    "model = keras.models.Model(inputs=input_layer, outputs=y)\n",
    "model.compile(loss='categorical_crossentropy',\n",
    "              optimizer='adam',\n",
    "              metrics=['accuracy'])\n",
    "checkpointer = keras.callbacks.ModelCheckpoint(filepath='./my_model/keras_conv.hdf5',\n",
    "                                               monitor='val_loss',\n",
    "                                               verbose=1, save_best_only=True)\n",
    "earlystopping = keras.callbacks.EarlyStopping(monitor='val_loss', patience=10,\n",
    "                                              verbose=1, min_delta=.01)\n",
    "#the whole data feed to model 'epochs' times. Each time on 'batch_size'\n",
    "history = model.fit(X_train, y_train,\n",
    "                    epochs=500,\n",
    "                    batch_size=batch_size,\n",
    "                    validation_data=(X_test, y_test),\n",
    "                    callbacks=[checkpointer, earlystopping])\n",
    "predicted = model.predict(validation_images)\n",
    "predict = np.argmax(predicted,1)"
   ]
  },
  {
   "cell_type": "code",
   "execution_count": 7,
   "metadata": {},
   "outputs": [
    {
     "name": "stdout",
     "output_type": "stream",
     "text": [
      "Accuracy for convolutional model with Keras is: 75.84 %\n"
     ]
    }
   ],
   "source": [
    "accuracy_5_k = (sum(predict == validation_labels) / \n",
    "                                validation_labels.shape[0] * 100)\n",
    "\n",
    "print('Accuracy for convolutional model with Keras is:',\n",
    "      '%0.2f'%(accuracy_5_k,),'%',sep = ' ')"
   ]
  },
  {
   "cell_type": "markdown",
   "metadata": {},
   "source": [
    "The convolutional model with keras does give a comparable results with a slight increase. The accuracy increases to **74.40 %** in the training set, and **75.84 %** in the validation set."
   ]
  },
  {
   "cell_type": "markdown",
   "metadata": {},
   "source": [
    "## Transfer learning"
   ]
  },
  {
   "cell_type": "markdown",
   "metadata": {},
   "source": [
    "### Prepare Deep Dream Model"
   ]
  },
  {
   "cell_type": "markdown",
   "metadata": {},
   "source": [
    "In transfer learning, we use a network trained on one data set to provide a starting point for the modeling of other data.  As we are trying to model color images, we should look for another network trained on color images.  We will use a famouse network: the `GoogLeNet` network.\n",
    "\n",
    "The following cell will download the saved network, if necessary, and load it into the current graph."
   ]
  },
  {
   "cell_type": "code",
   "execution_count": 28,
   "metadata": {},
   "outputs": [],
   "source": [
    "import os\n",
    "from urllib.request import urlopen\n",
    "import zipfile\n",
    "\n",
    "data_url = \"http://storage.googleapis.com/download.tensorflow.org/models/inception5h.zip\"\n",
    "data_dir = os.path.expanduser(\"~/inception/5h/\")\n",
    "file_path = os.path.join(data_dir, 'inception5h.zip')\n",
    "\n",
    "if not os.path.exists(file_path):\n",
    "    # Check if the download directory exists, otherwise create it.\n",
    "    if not os.path.exists(data_dir):\n",
    "        os.makedirs(data_dir)\n",
    "    # Download\n",
    "    with open(file_path, \"wb\") as local_file:\n",
    "        local_file.write(urlopen(data_url).read())\n",
    "    # Extract\n",
    "    zipfile.ZipFile(file_path, mode=\"r\").extractall(data_dir)\n",
    "\n",
    "path = os.path.join(data_dir, \"tensorflow_inception_graph.pb\")\n",
    "with tf.gfile.FastGFile(path, 'rb') as f:\n",
    "    graph_def = tf.GraphDef()\n",
    "    graph_def.ParseFromString(f.read())\n",
    "    tf.import_graph_def(graph_def, name='')"
   ]
  },
  {
   "cell_type": "markdown",
   "metadata": {},
   "source": [
    "In a transfer learning setup, we will use the first part of the trained network to process the original images, and then train a network to make predictions from the output of the trained network.  There are several ways to accomplish this.\n",
    "\n",
    "One approach is to connect the new layers to the output of the existing layers.  Data will flow through the pre-trained layers as well as those added.  In the training step, only the new layers should be marked as trainable.\n",
    "\n",
    "However, this can be a bit wasteful when multiple epochs of training will be undertaken.  With a smaller data set, such as this, it can be more efficient to pre-calculate the *latent vectors* that are the output of the pre-trained network.  These can be stored and used as input for training a smaller, separate network to make the predictions.\n",
    "\n",
    "Images are to be fed to the `GoogLeNet` network's `input` tensor.  We can get that with the `get_tensor_by_name()` function:"
   ]
  },
  {
   "cell_type": "code",
   "execution_count": 29,
   "metadata": {},
   "outputs": [],
   "source": [
    "googlenet_input = sess.graph.get_tensor_by_name(\"input:0\")"
   ]
  },
  {
   "cell_type": "code",
   "execution_count": 30,
   "metadata": {},
   "outputs": [
    {
     "data": {
      "text/plain": [
       "TensorShape(None)"
      ]
     },
     "execution_count": 30,
     "metadata": {},
     "output_type": "execute_result"
    }
   ],
   "source": [
    "googlenet_input.shape"
   ]
  },
  {
   "cell_type": "markdown",
   "metadata": {},
   "source": [
    "If we check the shape of this tensor, we'll see that it's `TensorShape(None)`.  You can feed any tensor into it, and it will compute something.  To get a reasonable output, however, you should feed in the same format that it was trained with, a four-dimensional tensor of shape `[?, 224, 224, 3]`.\n",
    "\n",
    "This implies that we need to upscale our images from $32\\times32$ to $224\\times224$.  There are a number of ways to do this; We will use `scipy.ndimage.zoom()` with the `order=1` parameter.  (Higher orders produce better results, but will take significantly longer!)  The `GoogLeNet` network was trained with pixel values from 0 to 255, so we'll want to scale up the image values appropriately.\n",
    "\n",
    "We will also need to pick a layer from the `GoogLeNet` model to use as the input to your layers.  Since `GoogLeNet` was trained on images much like our data set, we can use a layer near the end.  We will use the `avgpool0` layer (shape `[?, 1, 1, 1024]`).\n",
    "\n",
    "It may make sense to do the rescaling and latent vector calculation at the same time, to avoid storing the (somewhat large) rescaled images unnecessarily.  We also need to save those latent vectors to disk, to avoid the need to repeat this calculation later."
   ]
  },
  {
   "cell_type": "markdown",
   "metadata": {},
   "source": [
    "### Latent Vector"
   ]
  },
  {
   "cell_type": "code",
   "execution_count": 31,
   "metadata": {},
   "outputs": [],
   "source": [
    "layer_tensor = sess.graph.get_tensor_by_name(\"avgpool0:0\")"
   ]
  },
  {
   "cell_type": "code",
   "execution_count": 32,
   "metadata": {},
   "outputs": [],
   "source": [
    "import scipy as sp\n",
    "from tqdm import tqdm_notebook\n",
    "batch_size = 100\n",
    "\n",
    "def get_latent_vector(images,batch_size):\n",
    "    '''split to batch, zoom to 224, scale to [0,255],\n",
    "       calculate the latent vector'''\n",
    "    latent_vector = []\n",
    "    #split data into batches to prevent memory problems\n",
    "    for t in tqdm_notebook(np.split(images,images.shape[0]/batch_size,axis=0)):\n",
    "        conv_zoom = sp.ndimage.zoom(t, [1,224/32,224/32,1],order=1) #zoom\n",
    "        conv_scale = np.clip(conv_zoom*256,0.0,255.0).astype(np.uint8) #to [0,255]\n",
    "        latent_vector.append(sess.run(layer_tensor,\n",
    "                                      feed_dict={googlenet_input:conv_scale}))\n",
    "    return np.vstack(latent_vector)"
   ]
  },
  {
   "cell_type": "code",
   "execution_count": null,
   "metadata": {},
   "outputs": [],
   "source": [
    "latent_vector_train = get_latent_vector(train_images,batch_size)"
   ]
  },
  {
   "cell_type": "code",
   "execution_count": null,
   "metadata": {},
   "outputs": [],
   "source": [
    "latent_vector_test = get_latent_vector(validation_images,batch_size)"
   ]
  },
  {
   "cell_type": "code",
   "execution_count": 15,
   "metadata": {},
   "outputs": [],
   "source": [
    "import dill\n",
    "dill.dump(latent_vector_train,open('lv_train.dill','wb'))\n",
    "dill.dump(latent_vector_test,open('lv_test.dill','wb'))"
   ]
  },
  {
   "cell_type": "code",
   "execution_count": null,
   "metadata": {},
   "outputs": [],
   "source": [
    "# comment out the following lines if need to load latent vectors\n",
    "# latent_vector_train = dill.load(open('lv_train.dill','rb'))\n",
    "# latent_vector_test = dill.load(open('lv_test.dill','rb'))"
   ]
  },
  {
   "cell_type": "markdown",
   "metadata": {},
   "source": [
    "With the latent vectors calculated, we can use them as input to train a small neural network to make the final predictions. We are going to use the fully-connected model that we implemented above with 3 layers:"
   ]
  },
  {
   "cell_type": "markdown",
   "metadata": {},
   "source": [
    "### Full connected with 3 layers"
   ]
  },
  {
   "cell_type": "code",
   "execution_count": 16,
   "metadata": {},
   "outputs": [],
   "source": [
    "from sklearn.model_selection import train_test_split\n",
    "X_train,X_test,y_train,y_test = train_test_split(latent_vector_train, train_labels, \n",
    "                                                 test_size=0.02, random_state=0)\n",
    "\n",
    "reset_tf()\n",
    "image_size = 1 * 1 * 1024\n",
    "Iterations = 60000\n",
    "LEARNING_RATE = 0.5\n",
    "hidden_size = 1024\n",
    "batch_size = 100\n",
    "count_size = 20 #parameter to control the early stopping rate\n",
    "count = 0 #early stopping counter\n",
    "loss_min = 100 #store the running loss minima\n",
    "dropout = 0.5 #dropout rate\n",
    "\n",
    "x = tf.placeholder(tf.float32, [None, image_size], name=\"pixels\")\n",
    "y_labels = tf.placeholder(tf.int64, [None,], name=\"labels\")\n",
    "#training label is for dropout test, a boolean value to differentiate\n",
    "#training vs testing\n",
    "training = tf.placeholder(tf.bool, name=\"training\")\n",
    "\n",
    "drop1 = tf.layers.dropout(x, dropout, training=training)\n",
    "hidden1 = tf.layers.dense(drop1, hidden_size, activation=tf.nn.sigmoid, use_bias=True,\n",
    "    kernel_initializer=tf.truncated_normal_initializer(stddev=image_size**-0.5))\n",
    "\n",
    "drop2 = tf.layers.dropout(hidden1, dropout, training=training)\n",
    "hidden2 = tf.layers.dense(drop2, hidden_size, activation=tf.nn.sigmoid, use_bias=True,\n",
    "    kernel_initializer=tf.truncated_normal_initializer(stddev=hidden_size**-0.5))\n",
    "\n",
    "drop3 = tf.layers.dropout(hidden2, dropout, training=training)\n",
    "y = tf.layers.dense(drop3, 10, activation=None, use_bias=True,\n",
    "    kernel_initializer=tf.truncated_normal_initializer(stddev=hidden_size**-0.5))\n",
    "\n",
    "y_labels_one = tf.one_hot(y_labels, 10)\n",
    "loss = tf.reduce_mean(tf.nn.softmax_cross_entropy_with_logits_v2(logits=y, \n",
    "                                                              labels=y_labels_one))\n",
    "train = tf.train.GradientDescentOptimizer(LEARNING_RATE).minimize(loss)\n",
    "\n",
    "accuracy = tf.reduce_mean(tf.cast(tf.equal(tf.argmax(y, 1),\n",
    "                                           y_labels),\n",
    "                                  tf.float32))\n",
    "#make sure this step comes at the very end\n",
    "saver = tf.train.Saver(tf.global_variables())"
   ]
  },
  {
   "cell_type": "code",
   "execution_count": 17,
   "metadata": {},
   "outputs": [
    {
     "data": {
      "application/vnd.jupyter.widget-view+json": {
       "model_id": "dc0d922ab3ac40bda62228a10eddf0e2",
       "version_major": 2,
       "version_minor": 0
      },
      "text/html": [
       "<p>Failed to display Jupyter Widget of type <code>HBox</code>.</p>\n",
       "<p>\n",
       "  If you're reading this message in the Jupyter Notebook or JupyterLab Notebook, it may mean\n",
       "  that the widgets JavaScript is still loading. If this message persists, it\n",
       "  likely means that the widgets JavaScript library is either not installed or\n",
       "  not enabled. See the <a href=\"https://ipywidgets.readthedocs.io/en/stable/user_install.html\">Jupyter\n",
       "  Widgets Documentation</a> for setup instructions.\n",
       "</p>\n",
       "<p>\n",
       "  If you're reading this message in another frontend (for example, a static\n",
       "  rendering on GitHub or <a href=\"https://nbviewer.jupyter.org/\">NBViewer</a>),\n",
       "  it may mean that your frontend doesn't currently support widgets.\n",
       "</p>\n"
      ],
      "text/plain": [
       "HBox(children=(IntProgress(value=0, max=60000), HTML(value='')))"
      ]
     },
     "metadata": {},
     "output_type": "display_data"
    },
    {
     "name": "stdout",
     "output_type": "stream",
     "text": [
      "Loss : 10.91583 , Accuracy: 0.09800\n",
      "Loss : 0.56959 , Accuracy: 0.79700\n",
      "Loss : 0.51469 , Accuracy: 0.80600\n",
      "Loss : 0.50238 , Accuracy: 0.82100\n",
      "Loss : 0.49833 , Accuracy: 0.82000\n",
      "Loss : 0.49239 , Accuracy: 0.81700\n",
      "Loss : 0.49978 , Accuracy: 0.82000\n",
      "Loss : 0.49387 , Accuracy: 0.81500\n",
      "Loss : 0.48213 , Accuracy: 0.82400\n",
      "Loss : 0.49490 , Accuracy: 0.81900\n",
      "Loss : 0.47844 , Accuracy: 0.82000\n",
      "Loss : 0.47311 , Accuracy: 0.82100\n",
      "Loss : 0.48770 , Accuracy: 0.82400\n",
      "Loss : 0.46803 , Accuracy: 0.82900\n",
      "Loss : 0.48936 , Accuracy: 0.81600\n",
      "Loss : 0.46626 , Accuracy: 0.82500\n",
      "Loss : 0.48125 , Accuracy: 0.82500\n",
      "Loss : 0.46067 , Accuracy: 0.83300\n",
      "Loss : 0.46510 , Accuracy: 0.83500\n",
      "Loss : 0.45722 , Accuracy: 0.83100\n",
      "Loss : 0.44403 , Accuracy: 0.83300\n",
      "Loss : 0.45854 , Accuracy: 0.84000\n",
      "Loss : 0.44354 , Accuracy: 0.83900\n",
      "Loss : 0.45808 , Accuracy: 0.83400\n",
      "Loss : 0.44900 , Accuracy: 0.83600\n",
      "Loss : 0.45067 , Accuracy: 0.83600\n",
      "Loss : 0.45956 , Accuracy: 0.82900\n",
      "Loss : 0.44352 , Accuracy: 0.84100\n",
      "Loss : 0.46120 , Accuracy: 0.83600\n",
      "Loss : 0.44016 , Accuracy: 0.84000\n",
      "Loss : 0.44136 , Accuracy: 0.84300\n",
      "Loss : 0.45581 , Accuracy: 0.82800\n",
      "Loss : 0.45408 , Accuracy: 0.84000\n",
      "Loss : 0.44353 , Accuracy: 0.83900\n",
      "Loss : 0.44144 , Accuracy: 0.84700\n",
      "Loss : 0.44575 , Accuracy: 0.83600\n",
      "Loss : 0.42748 , Accuracy: 0.84800\n",
      "Loss : 0.43729 , Accuracy: 0.83300\n",
      "Loss : 0.44280 , Accuracy: 0.83600\n",
      "Loss : 0.44618 , Accuracy: 0.84300\n",
      "Loss : 0.44408 , Accuracy: 0.84600\n",
      "Loss : 0.44532 , Accuracy: 0.83900\n",
      "Loss : 0.42630 , Accuracy: 0.84500\n",
      "Loss : 0.43274 , Accuracy: 0.84900\n",
      "Loss : 0.42553 , Accuracy: 0.83900\n",
      "Loss : 0.43529 , Accuracy: 0.83800\n",
      "Loss : 0.42218 , Accuracy: 0.84600\n",
      "Loss : 0.42683 , Accuracy: 0.84900\n",
      "Loss : 0.42380 , Accuracy: 0.84300\n",
      "Loss : 0.42978 , Accuracy: 0.84900\n",
      "Loss : 0.44413 , Accuracy: 0.84100\n",
      "Loss : 0.44420 , Accuracy: 0.84000\n",
      "Loss : 0.42504 , Accuracy: 0.85500\n",
      "Loss : 0.42374 , Accuracy: 0.84400\n",
      "Loss : 0.42208 , Accuracy: 0.84600\n",
      "Loss : 0.43099 , Accuracy: 0.84600\n",
      "Loss : 0.41867 , Accuracy: 0.84800\n",
      "Loss : 0.42593 , Accuracy: 0.84600\n",
      "Loss : 0.42749 , Accuracy: 0.84900\n",
      "Loss : 0.40960 , Accuracy: 0.86000\n",
      "\n"
     ]
    }
   ],
   "source": [
    "from tqdm import tqdm_notebook\n",
    "reset_vars()\n",
    "for i in tqdm_notebook(range(Iterations)):\n",
    "    #minibatch training with boostraping\n",
    "    j = np.random.choice(len(y_train), batch_size, replace=True)\n",
    "    sess.run(train,\n",
    "             feed_dict={x: X_train[j].reshape(-1,image_size), \n",
    "                        y_labels: y_train[j],\n",
    "                        training: True})\n",
    "    if i % 1000 == 0:\n",
    "        l, a = sess.run([loss, accuracy],\n",
    "                       feed_dict={x: X_test.reshape(-1,image_size), \n",
    "                                  y_labels: y_test,\n",
    "                                  training: False})\n",
    "        print(\"Loss : %0.5f , Accuracy: %0.5f\" % (l,a))\n",
    "        if count >= count_size:\n",
    "            saver.restore(sess,saver.last_checkpoints[-1])\n",
    "            break\n",
    "        else:\n",
    "            if l < loss_min:\n",
    "                loss_min = l\n",
    "                count = 0\n",
    "                #make sure there is a local folder called 'my_model'\n",
    "                saver.save(sess,'my_model/my_model',global_step=i)\n",
    "            else:\n",
    "                count += 1"
   ]
  },
  {
   "cell_type": "code",
   "execution_count": 18,
   "metadata": {},
   "outputs": [
    {
     "name": "stdout",
     "output_type": "stream",
     "text": [
      "INFO:tensorflow:Restoring parameters from my_model/my_model-59000\n",
      "Accuracy for transfer learning model is: 85.97 %\n"
     ]
    }
   ],
   "source": [
    "saver.restore(sess,saver.last_checkpoints[-1])\n",
    "predicted = tf.argmax(y,1)\n",
    "predict = sess.run(predicted,{x:latent_vector_test.reshape(-1,image_size),\n",
    "                              training: False})\n",
    "accuracy_6 = (sum(predict == validation_labels) / \n",
    "                                validation_labels.shape[0] * 100)\n",
    "\n",
    "print('Accuracy for transfer learning model is:',\n",
    "      '%0.2f'%(accuracy_6,),'%',sep = ' ')"
   ]
  },
  {
   "cell_type": "markdown",
   "metadata": {},
   "source": [
    "The transfer learning model does a excellent job in predicting the image labels. The accuracy achieves **86.00 %** in the training set, and **85.97 %** in the validation set!"
   ]
  }
 ],
 "metadata": {
  "kernelspec": {
   "display_name": "Python 3",
   "language": "python",
   "name": "python3"
  },
  "language_info": {
   "codemirror_mode": {
    "name": "ipython",
    "version": 3
   },
   "file_extension": ".py",
   "mimetype": "text/x-python",
   "name": "python",
   "nbconvert_exporter": "python",
   "pygments_lexer": "ipython3",
   "version": "3.6.2"
  },
  "nbclean": true
 },
 "nbformat": 4,
 "nbformat_minor": 1
}

{
 "cells": [
  {
   "cell_type": "markdown",
   "metadata": {},
   "source": [
    "# A Look into Baby Names"
   ]
  },
  {
   "cell_type": "markdown",
   "metadata": {},
   "source": [
    "## PART A: data wrangling"
   ]
  },
  {
   "cell_type": "markdown",
   "metadata": {},
   "source": [
    "The task is to get the baby name data from Social Security Adminstration website. Extract the data and perform analysis.  "
   ]
  },
  {
   "cell_type": "markdown",
   "metadata": {},
   "source": [
    "### Question 1:  Are data clean?\n",
    "\n",
    "First of all, the data needs to be downloaded as shown by the following blocks of codes. The compressed zipfile downloaded contains 51 text file. Each file contains the comma separated values for state, gender, year, name, and name counts. Only name counts than are greater or equal to 5 are kept for privacy protection purpose. Annotation file is also included for data explanation. I will do some exploratory analysis."
   ]
  },
  {
   "cell_type": "code",
   "execution_count": 1,
   "metadata": {},
   "outputs": [],
   "source": [
    "%matplotlib inline\n",
    "import matplotlib\n",
    "from matplotlib import pyplot as plt\n",
    "import pandas as pd\n",
    "from datetime import datetime\n",
    "import numpy as np\n",
    "import scipy as sp\n",
    "import seaborn as sns\n",
    "sns.set()\n",
    "matplotlib.rcParams['figure.dpi'] = 144"
   ]
  },
  {
   "cell_type": "code",
   "execution_count": 2,
   "metadata": {},
   "outputs": [],
   "source": [
    "#The following function is used to get the absolute path from the relative one\n",
    "import os\n",
    "def localpath(path):\n",
    "    return 'file://' + os.path.join(os.path.abspath(os.path.curdir), path)"
   ]
  },
  {
   "cell_type": "code",
   "execution_count": 3,
   "metadata": {},
   "outputs": [],
   "source": [
    "!mkdir ./babydata"
   ]
  },
  {
   "cell_type": "code",
   "execution_count": 4,
   "metadata": {},
   "outputs": [
    {
     "data": {
      "text/plain": [
       "('./babydata/namesbystate.zip', <http.client.HTTPMessage at 0x7fe14ba7a438>)"
      ]
     },
     "execution_count": 4,
     "metadata": {},
     "output_type": "execute_result"
    }
   ],
   "source": [
    "#download the data and store in the local folder\n",
    "import zipfile, urllib\n",
    "url = 'http://www.ssa.gov/oact/babynames/state/namesbystate.zip'\n",
    "urllib.request.urlretrieve(url, './babydata/namesbystate.zip')"
   ]
  },
  {
   "cell_type": "code",
   "execution_count": 5,
   "metadata": {},
   "outputs": [],
   "source": [
    "#extract all the data into the folder\n",
    "z = zipfile.ZipFile('./babydata/namesbystate.zip')\n",
    "z.extractall('./babydata')"
   ]
  },
  {
   "cell_type": "markdown",
   "metadata": {},
   "source": [
    "I decided to go with the spark route for handling the data because the laziness\n",
    "of the evaluation, which doesn't load into the memory when it is not necessary. Furthermore, spark framework provide some nice online learning capabilities if needed.\n",
    "\n",
    "SQL approach is also feasible, which I might show as another version of this analysis in the later section.\n",
    "\n",
    "With that being said, the run enviroment do have to have the spark set up before running the following codes."
   ]
  },
  {
   "cell_type": "code",
   "execution_count": 6,
   "metadata": {},
   "outputs": [],
   "source": [
    "from pyspark import SparkContext, SparkConf\n",
    "from pyspark.sql import SQLContext\n",
    "from pyspark.sql import functions as F\n",
    "from pyspark.sql.types import DoubleType, IntegerType, StringType, StructType, StructField\n",
    "sc = SparkContext(\"local[*]\", \"name_df\")\n",
    "sqlContext = SQLContext(sc)"
   ]
  },
  {
   "cell_type": "code",
   "execution_count": 7,
   "metadata": {},
   "outputs": [],
   "source": [
    "#define the schema of the dataframe and extract the info into it\n",
    "schema = StructType([\n",
    "    StructField(\"state\", StringType()),\n",
    "    StructField(\"sex\", StringType()),\n",
    "    StructField(\"year\", IntegerType()),\n",
    "    StructField(\"name\", StringType()),\n",
    "    StructField(\"freq\", IntegerType())\n",
    "])\n",
    "\n",
    "df = sqlContext.read.csv(localpath('./babydata/*.TXT'),header=False,schema=schema)"
   ]
  },
  {
   "cell_type": "code",
   "execution_count": 8,
   "metadata": {},
   "outputs": [
    {
     "name": "stdout",
     "output_type": "stream",
     "text": [
      "root\n",
      " |-- state: string (nullable = true)\n",
      " |-- sex: string (nullable = true)\n",
      " |-- year: integer (nullable = true)\n",
      " |-- name: string (nullable = true)\n",
      " |-- freq: integer (nullable = true)\n",
      "\n"
     ]
    }
   ],
   "source": [
    "df.printSchema()"
   ]
  },
  {
   "cell_type": "markdown",
   "metadata": {},
   "source": [
    "I will first see how many data are missing and how many data are wrong entries by messing the capital letters in the names."
   ]
  },
  {
   "cell_type": "code",
   "execution_count": 9,
   "metadata": {},
   "outputs": [
    {
     "name": "stdout",
     "output_type": "stream",
     "text": [
      "0\n"
     ]
    }
   ],
   "source": [
    "#How many missing data are there? Apparently none of the entry has missing value\n",
    "missing = df.count()-df.dropna(how='any').count()\n",
    "print(missing)"
   ]
  },
  {
   "cell_type": "code",
   "execution_count": 10,
   "metadata": {},
   "outputs": [
    {
     "name": "stdout",
     "output_type": "stream",
     "text": [
      "0\n"
     ]
    }
   ],
   "source": [
    "#Are there wrong Entries by missing any capital letters in the name? Apparently no.\n",
    "capital = (df.agg(F.countDistinct('name')).collect()[0][0] -\n",
    "           df.withColumn('namelower',F.lower(df.name))\n",
    "             .agg(F.countDistinct('namelower')).collect()[0][0]) #counting distinct names before and after lower the names\n",
    "print(capital)"
   ]
  },
  {
   "cell_type": "markdown",
   "metadata": {},
   "source": [
    "**Answer 1:**\n",
    "\n",
    "The data are clean. Although the first 5 years of entries might have some problems, which can only be revealed in the later analysis."
   ]
  },
  {
   "cell_type": "markdown",
   "metadata": {},
   "source": [
    "### Question 2: The most popular names of all time for either gender?"
   ]
  },
  {
   "cell_type": "code",
   "execution_count": 11,
   "metadata": {},
   "outputs": [
    {
     "data": {
      "text/html": [
       "<div>\n",
       "<style scoped>\n",
       "    .dataframe tbody tr th:only-of-type {\n",
       "        vertical-align: middle;\n",
       "    }\n",
       "\n",
       "    .dataframe tbody tr th {\n",
       "        vertical-align: top;\n",
       "    }\n",
       "\n",
       "    .dataframe thead th {\n",
       "        text-align: right;\n",
       "    }\n",
       "</style>\n",
       "<table border=\"1\" class=\"dataframe\">\n",
       "  <thead>\n",
       "    <tr style=\"text-align: right;\">\n",
       "      <th></th>\n",
       "      <th>sex</th>\n",
       "      <th>name</th>\n",
       "    </tr>\n",
       "  </thead>\n",
       "  <tbody>\n",
       "    <tr>\n",
       "      <th>0</th>\n",
       "      <td>F</td>\n",
       "      <td>Mary</td>\n",
       "    </tr>\n",
       "    <tr>\n",
       "      <th>1</th>\n",
       "      <td>M</td>\n",
       "      <td>James</td>\n",
       "    </tr>\n",
       "  </tbody>\n",
       "</table>\n",
       "</div>"
      ],
      "text/plain": [
       "  sex   name\n",
       "0   F   Mary\n",
       "1   M  James"
      ]
     },
     "execution_count": 11,
     "metadata": {},
     "output_type": "execute_result"
    }
   ],
   "source": [
    "##What's the popular names of all time of either gender?\n",
    "\n",
    "from pyspark.sql.window import Window\n",
    "#first aggregate the name counts over all year\n",
    "all_year = (df.groupby('sex','name')\n",
    "              .agg(F.sum('freq').alias('count'))\n",
    "              .orderBy(F.col('count').desc()))\n",
    "#find the max name counts by sex using the window function\n",
    "w = Window.partitionBy('sex')\n",
    "favor_name = (all_year.withColumn('max',F.max('count').over(w))\n",
    "                      .where(F.col('count')==F.col('max'))\n",
    "                      .select('sex','name'))\n",
    "(favor_name.toPandas())"
   ]
  },
  {
   "cell_type": "code",
   "execution_count": 12,
   "metadata": {},
   "outputs": [
    {
     "name": "stdout",
     "output_type": "stream",
     "text": [
      "+---+-----+\n",
      "|sex| name|\n",
      "+---+-----+\n",
      "|  F| Mary|\n",
      "|  M|James|\n",
      "+---+-----+\n",
      "\n"
     ]
    }
   ],
   "source": [
    "#The following is the equavilent SQL query \n",
    "df.registerTempTable('table')\n",
    "q = '''SELECT \n",
    "             sex, name \n",
    "       FROM\n",
    "             (SELECT \n",
    "                  sex, name, count,\n",
    "                  MAX(count) over (PARTITION BY sex) as maxname \n",
    "              FROM\n",
    "                 (SELECT \n",
    "                        sex, name, SUM(freq) as count \n",
    "                  From \n",
    "                        table \n",
    "                  GROUP BY \n",
    "                        sex, name \n",
    "                  )\n",
    "             ) \n",
    "       WHERE \n",
    "             count = maxname\n",
    "    '''\n",
    "sqlContext.sql(q).show()"
   ]
  },
  {
   "cell_type": "markdown",
   "metadata": {},
   "source": [
    "**Answer 2:**\n",
    "\n",
    "The results shows that **Mary** is the all time favorite girls' name while **James** is for boys."
   ]
  },
  {
   "cell_type": "markdown",
   "metadata": {},
   "source": [
    "### Question 3: Most ambiguous names in 1945 and 2013\n",
    "\n",
    "**First trial :**\n",
    "\n",
    "In order to find out the ambiguity, we need to find out the names that appeared at the same number of times between male and female in 1945 and 2013. First, the aggregated name counts across the whole nation in 1945 and 2013 is separated into two tables--one for male, the other for female. The two tables are then joined together to match the same year and name. After that, the absolute difference of name counts between the two genders is calculated. Finally, the names with zero difference are chosen with the results ordered by year and counts in descending order."
   ]
  },
  {
   "cell_type": "code",
   "execution_count": 13,
   "metadata": {},
   "outputs": [
    {
     "name": "stdout",
     "output_type": "stream",
     "text": [
      "+----+------+-----+----+\n",
      "|year|  name|count|diff|\n",
      "+----+------+-----+----+\n",
      "|1945| Maxie|   19|   0|\n",
      "|2013|Nikita|   47|   0|\n",
      "|2013|  Cree|   11|   0|\n",
      "|2013|Devine|   10|   0|\n",
      "|2013| Sonam|    5|   0|\n",
      "|2013| Arlin|    5|   0|\n",
      "+----+------+-----+----+\n",
      "\n"
     ]
    }
   ],
   "source": [
    "#please see the annotation below for explanation of the syntax\n",
    "q = '''SELECT \n",
    "            year, name, count, diff\n",
    "       FROM\n",
    "            (SELECT f.year, f.name, f.count, ABS(f.count-m.count) as diff\n",
    "            FROM\n",
    "                 (SELECT \n",
    "                        year, name, SUM(freq) as count \n",
    "                  From \n",
    "                        table \n",
    "                  Where\n",
    "                        sex = 'F' AND (year = 2013 or year = 1945)\n",
    "                  GROUP BY \n",
    "                        year, name\n",
    "                  ) as f\n",
    "                INNER JOIN\n",
    "                  (SELECT \n",
    "                        year, name, SUM(freq) as count \n",
    "                  From \n",
    "                        table \n",
    "                  Where\n",
    "                        sex = 'M' AND (year = 2013 or year = 1945)\n",
    "                  GROUP BY \n",
    "                        year, name\n",
    "                  ) as m\n",
    "                ON\n",
    "                      f.year = m.year AND\n",
    "                      f.name = m.name)\n",
    "        WHERE\n",
    "            diff = 0\n",
    "        ORDER BY\n",
    "            year, count desc \n",
    "        \n",
    "    '''\n",
    "sqlContext.sql(q).show(100)"
   ]
  },
  {
   "cell_type": "markdown",
   "metadata": {},
   "source": [
    "**Answer 3 (first trial) :**  \n",
    "\n",
    "Here are the results:\n",
    "\n",
    "- 1945: **Maxie**\n",
    "- 2013: **Nikita, Cree, Devine, Sonam, Arlin**\n",
    "\n",
    "It appears that all those names are not among the popular names (with the most counts at only 47), which makes me think about a better alternative to find the more appropriate answers. I will try to use the total name counts to smooth out the difference and look for the names with medium to high popularity."
   ]
  },
  {
   "cell_type": "code",
   "execution_count": 14,
   "metadata": {},
   "outputs": [
    {
     "name": "stdout",
     "output_type": "stream",
     "text": [
      "+----+-------+-----+-------------------+\n",
      "|year|   name|total|              ratio|\n",
      "+----+-------+-----+-------------------+\n",
      "|1945| Leslie| 3655|0.08125854993160055|\n",
      "|2013|Charlie| 2848|0.08216292134831461|\n",
      "+----+-------+-----+-------------------+\n",
      "\n"
     ]
    }
   ],
   "source": [
    "#As you might have already noticed that the names picked are rared\n",
    "#which gives little information. I would like to try something different.\n",
    "#This time I will use the total name counts to average the difference.\n",
    "\n",
    "df.registerTempTable('table')\n",
    "q = '''SELECT \n",
    "            year, name, total,\n",
    "            diff/total as ratio\n",
    "       FROM\n",
    "            (SELECT f.year, f.name, f.count, \n",
    "                    ABS(f.count-m.count) as diff,\n",
    "                    (f.count + m.count) as total \n",
    "            FROM\n",
    "                 (SELECT \n",
    "                        year, name, SUM(freq) as count \n",
    "                  From \n",
    "                        table \n",
    "                  Where\n",
    "                        sex = 'F' AND (year = 2013 or year = 1945)\n",
    "                  GROUP BY \n",
    "                        year, name\n",
    "                  ) as f\n",
    "                INNER JOIN\n",
    "                  (SELECT \n",
    "                        year, name, SUM(freq) as count \n",
    "                  From \n",
    "                        table \n",
    "                  Where\n",
    "                        sex = 'M' AND (year = 2013 or year = 1945)\n",
    "                  GROUP BY \n",
    "                        year, name\n",
    "                  ) as m\n",
    "                ON\n",
    "                      f.year = m.year AND\n",
    "                      f.name = m.name)\n",
    "        WHERE\n",
    "            diff/total < 0.083 AND\n",
    "            total > 2000\n",
    "        ORDER BY\n",
    "            year, total desc \n",
    "        \n",
    "    '''\n",
    "sqlContext.sql(q).show()"
   ]
  },
  {
   "cell_type": "markdown",
   "metadata": {},
   "source": [
    "**Answer 3 (Update) :**\n",
    "\n",
    "Instead of counting the absolute value of difference, I decide to use the total name counts of each name to smooth out the popularity. I think that a total name counts of greater than 2000 a year defines a reasonable threshold for popular names. Furthermore, I believe that a small deviation from the expected value is perfectly fine in this case. I chose to use 0.083 according to my trial and error. This threshold set (total > 2000 and ratio/ 0.083) give a unique name in different years. Here are the results:\n",
    "\n",
    "- 1945: **Leslie**\n",
    "- 2013: **Charlie**\n",
    "\n",
    "I think this updated version is more meaningful than the previous trial because I have never met a Maxie in my life so far. "
   ]
  },
  {
   "cell_type": "markdown",
   "metadata": {},
   "source": [
    "### Question 4: Increase and decrease in popularity after 1980\n",
    "\n",
    "In order to calculate the popularity change, the first thing is to select\n",
    "the entries that are after 1980, summarize the total counts of each name year\n",
    "pair across the whole nation (groupby year, name) as the numeriator. \n",
    "To get the percentage information, the total name counts each year is\n",
    "calculated (groupby by year) as the denominator. One caveat for the dataset is \n",
    "there are some names apprears one year over the 18 year period. Those\n",
    "entries are deleted by (max_percent <> min_percent). Min and Max values are \n",
    "separated into two tables for the following processing."
   ]
  },
  {
   "cell_type": "code",
   "execution_count": 15,
   "metadata": {},
   "outputs": [],
   "source": [
    "#This block of code calculates the min value table as described above\n",
    "\n",
    "q = ''' SELECT name as min_name, year as min_year, min_percent\n",
    "        FROM\n",
    "        (SELECT name, year, percentage,\n",
    "               MAX(percentage) over (PARTITION BY name) as max_percent,\n",
    "               MIN(percentage) over (PARTITION BY name) as min_percent\n",
    "        FROM\n",
    "            (SELECT year, name, count, total,\n",
    "               (count/total)*100 as percentage\n",
    "            FROM\n",
    "                (SELECT \n",
    "                       year, name, count,\n",
    "                       SUM(count) over (PARTITION BY year) as total\n",
    "                FROM\n",
    "                  (SELECT \n",
    "                        year, name, SUM(freq) as count \n",
    "                  From \n",
    "                        table \n",
    "                  Where\n",
    "                        year >= 1980\n",
    "                  GROUP BY \n",
    "                        year, name\n",
    "                  ORDER BY\n",
    "                        year)))) as t\n",
    "        WHERE\n",
    "            max_percent <> min_percent AND\n",
    "            percentage = min_percent\n",
    "    '''\n",
    "min_table = sqlContext.sql(q)"
   ]
  },
  {
   "cell_type": "code",
   "execution_count": 16,
   "metadata": {},
   "outputs": [],
   "source": [
    "#This block of code calculates the max value table as described above\n",
    "\n",
    "q = ''' SELECT name as max_name, year as max_year, max_percent\n",
    "        FROM\n",
    "        (SELECT name, year, percentage,\n",
    "               MAX(percentage) over (PARTITION BY name) as max_percent,\n",
    "               MIN(percentage) over (PARTITION BY name) as min_percent\n",
    "        FROM\n",
    "            (SELECT year, name, count, total,\n",
    "               (count/total)*100 as percentage\n",
    "            FROM\n",
    "                (SELECT \n",
    "                       year, name, count,\n",
    "                       SUM(count) over (PARTITION BY year) as total\n",
    "                FROM\n",
    "                  (SELECT \n",
    "                        year, name, SUM(freq) as count \n",
    "                  From \n",
    "                        table \n",
    "                  Where\n",
    "                        year >= 1980\n",
    "                  GROUP BY \n",
    "                        year, name\n",
    "                  ORDER BY\n",
    "                        year)))) as t\n",
    "        WHERE\n",
    "            max_percent <> min_percent AND\n",
    "            percentage = max_percent\n",
    "    '''\n",
    "max_table = sqlContext.sql(q)"
   ]
  },
  {
   "cell_type": "code",
   "execution_count": 17,
   "metadata": {},
   "outputs": [],
   "source": [
    "#spark version to handle the table joining and processing\n",
    "\n",
    "#Join the two tables together, calculates whether the popularity is increased \n",
    "#or decreased. Calculate the percentage change. Order the result by percentage\n",
    "#change descendingly. Take the 1st data which is the max value in the table.\n",
    "\n",
    "increase = (min_table.join(max_table,min_table.min_name == max_table.max_name,'inner')\n",
    "             .withColumn('increase', \n",
    "                         F.when(F.col('max_year')>F.col('min_year'),1)\n",
    "                          .otherwise(-1))\n",
    "             .withColumn('change',(F.col('max_percent')-F.col('min_percent'))*F.col('increase'))\n",
    "             .select('min_name','change')\n",
    "             .orderBy(F.desc('change'))\n",
    "             .take(1))\n",
    "\n",
    "#Only difference is taking the ordering ascendingly at the very last step\n",
    "#in order to get the min value\n",
    "decrease = (min_table.join(max_table,min_table.min_name == max_table.max_name,'inner')\n",
    "             .withColumn('increase', \n",
    "                         F.when(F.col('max_year')>F.col('min_year'),1)\n",
    "                          .otherwise(-1))\n",
    "             .withColumn('change',(F.col('max_percent')-F.col('min_percent'))*F.col('increase'))\n",
    "             .select('min_name','change')\n",
    "             .orderBy('change')\n",
    "             .take(1))"
   ]
  },
  {
   "cell_type": "code",
   "execution_count": 18,
   "metadata": {},
   "outputs": [],
   "source": [
    "#This block of codes are the SQL equivalent of the above spark codes\n",
    "#First register the tables obtained above as the min_table and max_table\n",
    "min_table.registerTempTable('min_table')\n",
    "max_table.registerTempTable('max_table')\n",
    "\n",
    "#Join the min_table and max_table together on the same names\n",
    "#The idea is to get the years associated with the min/max values\n",
    "#in order to determine increase or decrease in popularity\n",
    "#To extract the max value, the final table is sorted by percentage change\n",
    "#reversely. Then, take the 1st number as the max. Min value is vice versa.\n",
    "\n",
    "q = '''SELECT \n",
    "            name, change\n",
    "       FROM\n",
    "           (SELECT \n",
    "                name,\n",
    "                (max_percent - min_percent) * increase as change\n",
    "           FROM\n",
    "            (SELECT \n",
    "                min_name as name,\n",
    "                max_percent, min_percent,\n",
    "                CASE WHEN max_year>min_year THEN 1\n",
    "                     ELSE -1\n",
    "                     END as increase\n",
    "            From\n",
    "                min_table as a JOIN\n",
    "                max_table as b\n",
    "                ON\n",
    "                  min_name = max_name))\n",
    "       ORDER BY\n",
    "            change DESC\n",
    "       LIMIT 1\n",
    "       \n",
    "    '''\n",
    "\n",
    "increase = sqlContext.sql(q).collect()\n",
    "#The following code is for extracting the min value for the percentage change\n",
    "q = '''SELECT \n",
    "            name, change\n",
    "       FROM\n",
    "           (SELECT \n",
    "                name,\n",
    "                (max_percent - min_percent) * increase as change\n",
    "           FROM\n",
    "            (SELECT \n",
    "                min_name as name,\n",
    "                max_percent, min_percent,\n",
    "                CASE WHEN max_year>min_year THEN 1\n",
    "                     ELSE -1\n",
    "                     END as increase\n",
    "            From\n",
    "                min_table as a JOIN\n",
    "                max_table as b\n",
    "                ON\n",
    "                  min_name = max_name))\n",
    "       ORDER BY\n",
    "            change\n",
    "       LIMIT 1\n",
    "       \n",
    "    '''\n",
    "\n",
    "decrease = sqlContext.sql(q).collect()"
   ]
  },
  {
   "cell_type": "code",
   "execution_count": 19,
   "metadata": {},
   "outputs": [
    {
     "name": "stdout",
     "output_type": "stream",
     "text": [
      "Highest increase: Tyler\n",
      "Increased by: 0.8684475806399412%\n",
      "Highest decrease: Jennifer\n",
      "Decreased by: -1.8354295883706977%\n"
     ]
    }
   ],
   "source": [
    "print(\"Highest increase: {}\".format(increase[0][0]),\n",
    "      \"Increased by: {}%\".format(increase[0][1]),\n",
    "      \"Highest decrease: {}\".format(decrease[0][0]),\n",
    "      \"Decreased by: {}%\".format(decrease[0][1]),sep='\\n')"
   ]
  },
  {
   "cell_type": "markdown",
   "metadata": {},
   "source": [
    "**Answer 4:**\n",
    "\n",
    "\n",
    "Here are the results based on the calculations:\n",
    "\n",
    "- Highest increase: **Tyler**\n",
    "- Increased by: 0.8684475806399412%\n",
    "- Highest decrease: **Jennifer**\n",
    "- Decreased by: -1.8354295883706977%\n",
    "\n",
    "One caveat for this analysis lies in the assumption that max() and min() function can find the GLOBAL maxima and minima. However, in the real world, this is not often the case. We can verify Tyler and Jennifer by plotting their popularities over time."
   ]
  },
  {
   "cell_type": "code",
   "execution_count": 20,
   "metadata": {},
   "outputs": [],
   "source": [
    "#this block of codes extract the information for 'Tyler' and 'Jennifer'\n",
    "#to verify their signals (max/min values) are extracted correctly.\n",
    "\n",
    "q = '''\n",
    "        (SELECT year, name,\n",
    "               (count/total)*100 as percentage\n",
    "            FROM\n",
    "                (SELECT \n",
    "                       year, name, count,\n",
    "                       SUM(count) over (PARTITION BY year) as total\n",
    "                FROM\n",
    "                  (SELECT \n",
    "                        year, name, SUM(freq) as count \n",
    "                  From \n",
    "                        table \n",
    "                  Where\n",
    "                        year >= 1980\n",
    "                  GROUP BY \n",
    "                        year, name\n",
    "                  ORDER BY\n",
    "                        year))\n",
    "         WHERE\n",
    "             name = 'Tyler' OR\n",
    "             name = 'Jennifer'\n",
    "         ORDER BY\n",
    "             name, year)\n",
    "    '''"
   ]
  },
  {
   "cell_type": "code",
   "execution_count": 21,
   "metadata": {},
   "outputs": [
    {
     "data": {
      "text/plain": [
       "Text(0.5,1,'Popularity Changes Over Time')"
      ]
     },
     "execution_count": 21,
     "metadata": {},
     "output_type": "execute_result"
    },
    {
     "data": {
      "image/png": "[encoded data removed]",
      "text/plain": [
       "<Figure size 432x288 with 1 Axes>"
      ]
     },
     "metadata": {},
     "output_type": "display_data"
    }
   ],
   "source": [
    "fig, ax = plt.subplots()\n",
    "(sqlContext.sql(q)\n",
    "        .toPandas()\n",
    "        .set_index('year')\n",
    "        .sort_index()\n",
    "        .groupby('name')\n",
    "        .plot(ax=ax))\n",
    "ax.legend(['Jennifer','Tyler'])\n",
    "ax.set_ylabel('popularity')\n",
    "ax.set_title('Popularity Changes Over Time')"
   ]
  },
  {
   "cell_type": "markdown",
   "metadata": {},
   "source": [
    "The figure seems to be in consistent with our assumption about the global maxima and minima. It is good to have that confidence in the pocket. But still, I haven't exhausted the whole dataset about the pattern..."
   ]
  },
  {
   "cell_type": "markdown",
   "metadata": {},
   "source": [
    "### Question 5: Increase and decrease in popularity before 1980\n",
    "\n",
    "Question 5 is asking a similar question as question 4. But this time the time window is shifted to before 1980. The basic strategy is the same. I will use the values of Tyler and Jennifer to filter the final results."
   ]
  },
  {
   "cell_type": "code",
   "execution_count": 22,
   "metadata": {},
   "outputs": [],
   "source": [
    "#construct the min table as last question\n",
    "q = ''' SELECT name as min_name, year as min_year, min_percent\n",
    "        FROM\n",
    "        (SELECT name, year, percentage,\n",
    "               MAX(percentage) over (PARTITION BY name) as max_percent,\n",
    "               MIN(percentage) over (PARTITION BY name) as min_percent\n",
    "        FROM\n",
    "            (SELECT year, name, count, total,\n",
    "               (count/total)*100 as percentage\n",
    "            FROM\n",
    "                (SELECT \n",
    "                       year, name, count,\n",
    "                       SUM(count) over (PARTITION BY year) as total\n",
    "                FROM\n",
    "                  (SELECT \n",
    "                        year, name, SUM(freq) as count \n",
    "                  From \n",
    "                        table \n",
    "                  Where\n",
    "                        year < 1980\n",
    "                  GROUP BY \n",
    "                        year, name\n",
    "                  ORDER BY\n",
    "                        year)))) as t\n",
    "        WHERE\n",
    "            max_percent <> min_percent AND\n",
    "            percentage = min_percent\n",
    "    '''\n",
    "min_table_early = sqlContext.sql(q)"
   ]
  },
  {
   "cell_type": "code",
   "execution_count": 23,
   "metadata": {},
   "outputs": [],
   "source": [
    "#construct the max table as last question\n",
    "q = ''' SELECT name as max_name, year as max_year, max_percent\n",
    "        FROM\n",
    "        (SELECT name, year, percentage,\n",
    "               MAX(percentage) over (PARTITION BY name) as max_percent,\n",
    "               MIN(percentage) over (PARTITION BY name) as min_percent\n",
    "        FROM\n",
    "            (SELECT year, name, count, total,\n",
    "               (count/total)*100 as percentage\n",
    "            FROM\n",
    "                (SELECT \n",
    "                       year, name, count,\n",
    "                       SUM(count) over (PARTITION BY year) as total\n",
    "                FROM\n",
    "                  (SELECT \n",
    "                        year, name, SUM(freq) as count \n",
    "                  From \n",
    "                        table \n",
    "                  Where\n",
    "                        year < 1980\n",
    "                  GROUP BY \n",
    "                        year, name\n",
    "                  ORDER BY\n",
    "                        year)))) as t\n",
    "        WHERE\n",
    "            max_percent <> min_percent AND\n",
    "            percentage = max_percent\n",
    "    '''\n",
    "\n",
    "max_table_early = sqlContext.sql(q)"
   ]
  },
  {
   "cell_type": "code",
   "execution_count": 24,
   "metadata": {},
   "outputs": [],
   "source": [
    "#join table to look for the name with bigger increase in popularity\n",
    "min_table_early.registerTempTable('min_table_early')\n",
    "max_table_early.registerTempTable('max_table_early')\n",
    "\n",
    "q = '''SELECT \n",
    "            name, change\n",
    "       FROM\n",
    "           (SELECT \n",
    "                name,\n",
    "                (max_percent - min_percent) * increase as change\n",
    "           FROM\n",
    "            (SELECT \n",
    "                min_name as name,\n",
    "                max_percent, min_percent,\n",
    "                CASE WHEN max_year>min_year THEN 1\n",
    "                     ELSE -1\n",
    "                     END as increase\n",
    "            From\n",
    "                min_table_early as a JOIN\n",
    "                max_table_early as b\n",
    "                ON\n",
    "                  min_name = max_name))\n",
    "       WHERE\n",
    "            change > 0.8684475806399412\n",
    "       ORDER BY\n",
    "            change DESC\n",
    "    '''\n",
    "\n",
    "increase_early = sqlContext.sql(q).collect()"
   ]
  },
  {
   "cell_type": "code",
   "execution_count": 25,
   "metadata": {},
   "outputs": [],
   "source": [
    "#join table to find names with harder drops in popularity\n",
    "q = '''SELECT \n",
    "            name, change\n",
    "       FROM\n",
    "           (SELECT \n",
    "                name,\n",
    "                (max_percent - min_percent) * increase as change\n",
    "           FROM\n",
    "            (SELECT \n",
    "                min_name as name,\n",
    "                max_percent, min_percent,\n",
    "                CASE WHEN max_year>min_year THEN 1\n",
    "                     ELSE -1\n",
    "                     END as increase\n",
    "            From\n",
    "                min_table_early as a JOIN\n",
    "                max_table_early as b\n",
    "                ON\n",
    "                  min_name = max_name))\n",
    "       WHERE\n",
    "            change < -1.8354295883706977\n",
    "       ORDER BY\n",
    "            change\n",
    "    '''\n",
    "\n",
    "decrease_early = sqlContext.sql(q).collect()"
   ]
  },
  {
   "cell_type": "code",
   "execution_count": 26,
   "metadata": {},
   "outputs": [
    {
     "name": "stdout",
     "output_type": "stream",
     "text": [
      "Even bigger increase: Linda, Michael, Jennifer, Robert, David, Jason, Christopher, Lisa, Richard, Patricia, Mark, Deborah, Donald, Debra, Brian, Susan, Carol, Matthew, Amy, Melissa, Gary, Ronald, Michelle, Amanda, Sandra, Kimberly, Joshua, Judith, Karen, Larry, Steven, Cynthia, Scott, Sharon, Jeffrey, Jessica, Donna, Timothy, Heather\n",
      "\n",
      "Even deeper decrease: Mary, Shirley, Helen\n"
     ]
    }
   ],
   "source": [
    "increase_list = [a[0] for a in increase_early]\n",
    "decrease_list = [b[0] for b in decrease_early]\n",
    "print(\"Even bigger increase: {}\".format(', '.join(increase_list)),\n",
    "      \"Even deeper decrease: {}\".format(', '.join(decrease_list)),sep='\\n\\n')"
   ]
  },
  {
   "cell_type": "markdown",
   "metadata": {},
   "source": [
    "**Answer 5:**\n",
    "\n",
    "The algorithm is the same as the previous question. The differences are: \n",
    "\n",
    "1. Changing the year filter to before 1980;\n",
    "2. Changing the finding the max/min value to set values.\n",
    "\n",
    "The results show that there were ***39 names*** had even larger increase while **Mary, Shirley, Helen** dropped in popularity even harder than Jennifer does in recent years.  "
   ]
  },
  {
   "cell_type": "markdown",
   "metadata": {},
   "source": [
    "## PART B: machine learning and prediction"
   ]
  },
  {
   "cell_type": "markdown",
   "metadata": {},
   "source": [
    "### Time series analysis\n",
    "\n",
    "The dataset could be potentially very helpful in guidance the manufacturing of the baby products. If we can find a way to predict the number of new borns and adjust the production/marketing strategies, that will give the manufacturer a great advantage. So, the target of the following analysis will be on: 1) Is there a time-dependent trend in the new born rates showing in the data? 2) How well can we predict the number of new borns? 3) Are there any other datasets available to improve this analysis?\n",
    "\n",
    "Let's start with the first question. "
   ]
  },
  {
   "cell_type": "markdown",
   "metadata": {},
   "source": [
    "As an easy start, we will look at the new born names across the whole nation. We can worry about the regional differences later."
   ]
  },
  {
   "cell_type": "code",
   "execution_count": 27,
   "metadata": {},
   "outputs": [
    {
     "name": "stdout",
     "output_type": "stream",
     "text": [
      "+----+----------+\n",
      "|year|population|\n",
      "+----+----------+\n",
      "|1959|   3955206|\n",
      "|1990|   3567015|\n",
      "|1975|   2744585|\n",
      "|1977|   2882836|\n",
      "|1924|   2218862|\n",
      "+----+----------+\n",
      "only showing top 5 rows\n",
      "\n"
     ]
    }
   ],
   "source": [
    "import pandas as pd\n",
    "pop = (df.groupby('year')\n",
    "         .sum('freq')\n",
    "         .withColumnRenamed('sum(freq)','population'))\n",
    "pop.show(5)"
   ]
  },
  {
   "cell_type": "code",
   "execution_count": 28,
   "metadata": {},
   "outputs": [
    {
     "data": {
      "text/plain": [
       "<matplotlib.lines.Line2D at 0x7fe148755c88>"
      ]
     },
     "execution_count": 28,
     "metadata": {},
     "output_type": "execute_result"
    },
    {
     "data": {
      "image/png": "[encoded data removed]",
      "text/plain": [
       "<Figure size 432x288 with 1 Axes>"
      ]
     },
     "metadata": {},
     "output_type": "display_data"
    }
   ],
   "source": [
    "baby = pop.toPandas()\n",
    "(baby.set_index('year')\n",
    "    .sort_index()\n",
    "    .eval('population = population / 1000000')\n",
    "    .plot())\n",
    "plt.ylabel('Total names (in Million)')\n",
    "plt.title('Baby Names by Year')\n",
    "plt.axvline(1915,color = 'green',ls = 'dashed',lw = 1)"
   ]
  },
  {
   "cell_type": "markdown",
   "metadata": {},
   "source": [
    "From this exploratory figure, we can clearly see the periodic signal in the new born rates. This reflects very well the [three baby booms] (https://en.wikipedia.org/wiki/Baby_boom) in the American history. The first 5 data points from 1910 to 1914 has very sharp increase which doesn't fit with the rest of the dataset. It might be the first few years of name registration implementation. For the consistency of the analysis, I will exclude those 5 years from the further analysis."
   ]
  },
  {
   "cell_type": "markdown",
   "metadata": {},
   "source": [
    "#### Modeling base line\n",
    "\n",
    "We all know that population grows in the [exponential growth function] (https://en.wikipedia.org/wiki/Exponential_growth). I will first use the exponential fit to get the baseline. The population takes the log transformation, then is fitted again the time which is converted to the Julian date. A constant field is added into the feature for the linear regressor."
   ]
  },
  {
   "cell_type": "code",
   "execution_count": 29,
   "metadata": {},
   "outputs": [],
   "source": [
    "#selecting only the year after 1914\n",
    "baby = baby[baby.year > 1914]\n",
    "baby['year'] = pd.to_datetime(baby.year,format=\"%Y\")\n",
    "baby = baby.set_index('year',drop=True).sort_index()\n",
    "baby['julian'] = baby.index.to_julian_date()\n",
    "\n",
    "#adding a constant field into the feature for the linear regressor\n",
    "def add_constant(X):\n",
    "    X['const'] = pd.Series(np.ones(len(X.index)), index=X.index)\n",
    "    return X\n",
    "baby = add_constant(baby)"
   ]
  },
  {
   "cell_type": "code",
   "execution_count": 30,
   "metadata": {},
   "outputs": [
    {
     "name": "stdout",
     "output_type": "stream",
     "text": [
      "R2 score: 0.3423270103477085\n",
      "Best parameters: {'alpha': 10}\n"
     ]
    }
   ],
   "source": [
    "from sklearn.model_selection import train_test_split\n",
    "from sklearn.linear_model import LinearRegression,Ridge\n",
    "from sklearn.svm import LinearSVR\n",
    "from sklearn.model_selection import GridSearchCV, cross_validate\n",
    "from sklearn.metrics import r2_score, mean_squared_error\n",
    "import numpy as np\n",
    "#The dataset will be split into train and test sets for cross validation\n",
    "#linear model is chosen because of the exponential growth function\n",
    "#and the benefit of downstream analysis\n",
    "X_train,X_test,y_train,y_test = train_test_split(baby[['julian','const']], \n",
    "                                                 baby.population, \n",
    "                                                 test_size=0.1, random_state=42)\n",
    "parameters = {'alpha':[0.1, 1, 10]}\n",
    "exponential_model = GridSearchCV(Ridge(), parameters, cv=5)\n",
    "exponential_model.fit(X_train,np.log(y_train))#target needs log transformation\n",
    "\n",
    "score = r2_score(np.log(y_test),exponential_model.predict(X_test))\n",
    "print(\"R2 score: {}\".format(score),\n",
    "      \"Best parameters: {}\".format(exponential_model.best_params_),sep = '\\n')"
   ]
  },
  {
   "cell_type": "code",
   "execution_count": 31,
   "metadata": {},
   "outputs": [
    {
     "data": {
      "text/plain": [
       "Text(0,0.5,'population')"
      ]
     },
     "execution_count": 31,
     "metadata": {},
     "output_type": "execute_result"
    },
    {
     "data": {
      "image/png": "[encoded data removed]",
      "text/plain": [
       "<Figure size 432x288 with 1 Axes>"
      ]
     },
     "metadata": {},
     "output_type": "display_data"
    }
   ],
   "source": [
    "#The baseline signal is substracted from the original signal\n",
    "#The log residuals (log_error_exponential) are for further analysis\n",
    "exp_model_df = baby\n",
    "exp_model_df['exponential_model'] = np.exp(exponential_model\n",
    "                                          .predict(baby[['julian','const']]))\n",
    "exp_model_df['log_error_exponential'] = np.log(\n",
    "                                exp_model_df['population'] /exp_model_df['exponential_model'])\n",
    "exp_model_df[['exponential_model','population']].plot();\n",
    "plt.title('Exponential prediction of the population')\n",
    "plt.ylabel('population')"
   ]
  },
  {
   "cell_type": "markdown",
   "metadata": {},
   "source": [
    "The fit isn't good with a terrible R2 score (0.3423). I have also tried a polynomial fit by adding the square of julian date. The results were much better with a R2 score at 0.67. However, in line with the following seasonality analysis, I will keep the first model simple."
   ]
  },
  {
   "cell_type": "markdown",
   "metadata": {},
   "source": [
    "#### Modeling Error\n",
    "\n",
    "Since we get the baseline taken care of, we can move on to model the seasonality. First, we need to take a look at the residuals."
   ]
  },
  {
   "cell_type": "code",
   "execution_count": 32,
   "metadata": {},
   "outputs": [
    {
     "data": {
      "text/plain": [
       "Text(0.5,1,'Log Residuals Show Periodicity')"
      ]
     },
     "execution_count": 32,
     "metadata": {},
     "output_type": "execute_result"
    },
    {
     "data": {
      "image/png": "[encoded data removed]",
      "text/plain": [
       "<Figure size 432x288 with 1 Axes>"
      ]
     },
     "metadata": {},
     "output_type": "display_data"
    }
   ],
   "source": [
    "(exp_model_df.log_error_exponential).plot()\n",
    "plt.ylabel('log(population) - log(model)')\n",
    "plt.title('Log Residuals Show Periodicity')"
   ]
  },
  {
   "cell_type": "markdown",
   "metadata": {},
   "source": [
    "Indeed, the residuals show some kind of periodicity that has three peaks in the signal. I will do a Fourier transform to find out the frequencies."
   ]
  },
  {
   "cell_type": "code",
   "execution_count": 33,
   "metadata": {},
   "outputs": [
    {
     "data": {
      "image/png": "[encoded data removed]",
      "text/plain": [
       "<Figure size 432x288 with 1 Axes>"
      ]
     },
     "metadata": {},
     "output_type": "display_data"
    }
   ],
   "source": [
    "from scipy import fftpack\n",
    "\n",
    "fft = fftpack.fft(baby['log_error_exponential'])\n",
    "plt.plot(np.abs(fft))\n",
    "plt.title('FFT of Log Error in Population')\n",
    "plt.xlabel('# Cycles in window of data (~103 years)');"
   ]
  },
  {
   "cell_type": "markdown",
   "metadata": {},
   "source": [
    "Well, what this figure tells us is that there is no rigid periodical signal in the total baby names over time. Theoretically, I can do sin() and cos() transformation of the julian date into the feature spaces if the seasonality signal is strong. In this case, however, I will try to use the moving average instead.\n",
    "\n",
    "First, let's verify if the signal autocorrelates with itself."
   ]
  },
  {
   "cell_type": "code",
   "execution_count": 34,
   "metadata": {},
   "outputs": [
    {
     "data": {
      "image/png": "[encoded data removed]",
      "text/plain": [
       "<Figure size 432x288 with 1 Axes>"
      ]
     },
     "metadata": {},
     "output_type": "display_data"
    }
   ],
   "source": [
    "from pandas.plotting import autocorrelation_plot\n",
    "\n",
    "autocorrelation_plot(baby['log_error_exponential'])\n",
    "plt.xlabel('Lag (years)')\n",
    "plt.axvline(15, color = 'green');"
   ]
  },
  {
   "cell_type": "markdown",
   "metadata": {},
   "source": [
    "Indeed, there is autocorrelation in the residuals. The characteristic time scale (the point that signal crosses x axis) for the residuals is 15 years, indicating by the green solid line. That means we should only look at population data up to 15 years to predict the future population. \n",
    "\n",
    "I would like to predict 1 year in the future because knowing 1 year in advance should give the manufacture a great leverage in the market. "
   ]
  },
  {
   "cell_type": "code",
   "execution_count": 35,
   "metadata": {},
   "outputs": [],
   "source": [
    "PREDICTION_LAG = 1 # in year\n",
    "#To keep the model simple, I will save the most recent 10 years for test\n",
    "CUT = 2008\n",
    "\n",
    "#creating the 'future' value by shifting the population\n",
    "baby['future'] = (baby['population'].shift(-PREDICTION_LAG)\n",
    "                                   .fillna(method = 'ffill'))"
   ]
  },
  {
   "cell_type": "markdown",
   "metadata": {},
   "source": [
    "I would like to build a model to predict the residuals of the exponential model 1 year out, from the last and current residuals, as well as 3 years rolling averages for the population and its derivative."
   ]
  },
  {
   "cell_type": "code",
   "execution_count": 36,
   "metadata": {
    "scrolled": false
   },
   "outputs": [
    {
     "name": "stdout",
     "output_type": "stream",
     "text": [
      "count    6.000000\n",
      "mean    -0.000096\n",
      "std      0.017400\n",
      "min     -0.027117\n",
      "25%     -0.007360\n",
      "50%     -0.000333\n",
      "75%      0.011094\n",
      "max      0.022009\n",
      "dtype: float64\n"
     ]
    },
    {
     "data": {
      "image/png": "[encoded data removed]",
      "text/plain": [
       "<Figure size 432x288 with 1 Axes>"
      ]
     },
     "metadata": {},
     "output_type": "display_data"
    }
   ],
   "source": [
    "from sklearn.model_selection import TimeSeriesSplit\n",
    "from sklearn.model_selection import cross_val_score\n",
    "from sklearn.ensemble import RandomForestRegressor\n",
    "from sklearn import base\n",
    "#last 10 points saved for testing\n",
    "train = baby[baby.index < datetime(CUT,1,1)]\n",
    "test = baby[baby.index >= datetime(CUT,1,1)]\n",
    "\n",
    "# Reporting function\n",
    "def summarize_errors(test_me):\n",
    "    error_pct = (test_me['future'] - test_me['model']) / test_me['future']\n",
    "\n",
    "    print(error_pct.describe())\n",
    "    error_pct.plot()\n",
    "    plt.title('Percentage Error [ ( predict - test ) / test ] %')\n",
    "    plt.show()\n",
    "    \n",
    "\n",
    "# Helper funtion to take care of the feature engineering\n",
    "def frame_to_feats(frame):\n",
    "    feats = pd.DataFrame()\n",
    "    \n",
    "    feats['LEE'] = frame['log_error_exponential'] #current residual\n",
    "    feats['LEE_1'] = frame['log_error_exponential'].shift(1) #last residual\n",
    "    #moving average of population derivative\n",
    "    feats['dLEE_avg'] = pd.Series.rolling(frame['population'].diff(), \n",
    "                                          window=3*PREDICTION_LAG).mean()\n",
    "    #variance of log error exponential in 3 years period\n",
    "    feats['vol_avg'] = pd.Series.ewm(frame['population'], \n",
    "                                     span=3*PREDICTION_LAG).var(bias=False)\n",
    "    #future log error exponential\n",
    "    feats['future_LEE'] = frame['log_error_exponential'].shift(-PREDICTION_LAG)\n",
    "    return feats.dropna(how='any')\n",
    "\n",
    "#Customized estimator to fit and predict the log error\n",
    "class CustomEstimator(base.BaseEstimator, base.RegressorMixin):\n",
    "    \n",
    "    def fit(self, X, y=None):\n",
    "        self.model = []\n",
    "        feats = frame_to_feats(X)\n",
    "        #split the X and y after they have been processed together\n",
    "        X_train = feats.drop('future_LEE', axis=1).values\n",
    "        y_train = feats['future_LEE'].values\n",
    "        #this takes care of the time series forward chaining validation\n",
    "        tss = TimeSeriesSplit(n_splits=5).split(X_train)\n",
    "        #RandomForest gives a good estimate\n",
    "        parameters = {'n_estimators':[10, 50, 100]}\n",
    "        regress = GridSearchCV(RandomForestRegressor(), \n",
    "                               param_grid=parameters, cv=tss)\n",
    "        self.model = regress.fit(X_train,y_train)\n",
    "        return self\n",
    "    \n",
    "    def predict(self, X):\n",
    "        feats = frame_to_feats(X)\n",
    "        X_test = feats.drop('future_LEE', axis=1).values\n",
    "        return self.model.predict(X_test)\n",
    "    \n",
    "predicted = CustomEstimator().fit(train).predict(test)\n",
    "#take care of the data alignment\n",
    "test = test[-predicted.shape[0]-1:-1]\n",
    "test['predicted_LEE'] = predicted\n",
    "#total predicted value from base exponential model and the error model\n",
    "test['model'] = np.exp(test['predicted_LEE']) * test['exponential_model']\n",
    "\n",
    "# Report\n",
    "test_me = test[['future', 'model']].dropna(how='any')\n",
    "summarize_errors(test_me)"
   ]
  },
  {
   "cell_type": "markdown",
   "metadata": {},
   "source": [
    "From the results above, we can see that the prediction is roughly within 3 % of the real population number. Considered that there are only 103 data points, the model actually did a reasonably good job. "
   ]
  },
  {
   "cell_type": "markdown",
   "metadata": {},
   "source": [
    "### Combining external features\n",
    "\n",
    "Now that we have a somewhat solid fundation, we need to think about how we can do better. As mentioned earlier, we only have 103 data points. And, we built our model in the assumption that future population value depends only on the previous ones, which is not the case at all. Other factors also play important roles like the population migration both on the nation level and the state level. We will need to get the census data to extract those information. The migration census data can be obtained from the [website] (https://www.census.gov/data/tables/time-series/demo/geographic-mobility/historic.html). We can put in the inmigration and outmigration numbers as the feature and put them into our model to see if the predition power of our model improves.  "
   ]
  },
  {
   "cell_type": "markdown",
   "metadata": {},
   "source": [
    "### Other Thoughts\n",
    "\n",
    "There are other ways we can leveage the baby name dataset: \n",
    "\n",
    "1. Region / Division / State levels of analysis: I haven't got the time to touch on those areas. Those sub-regional information can provide a great guidance on inventory management and marketing expense allocation, etc. Analysis can be done on different parameters like names, gender, total population, etc.\n",
    "\n",
    "2. Analysis on the names: imagine that we have a manufacturer who makes name tags. If the relative frequency of different names are known ahead of time, the company can save a lot of materials on producing the not so popular products. The regional analysis mentioned above guides the inventory management in different sub-markets.\n",
    "\n",
    "3. Gender analysis: Although we know that male/female ratio should be around 0.5 with strong biological evidence, sub-region difference still exists. Say a baby toy manufacturer wants to know how many boy vs girl versions of toys need to produce and how to allocate the product in different regions. Analysis of the gender information in the sub-regional levels can provide a tremendous help in this type of situation. \n",
    "\n",
    "4. Anomaly detection: In this case, we can focus on the historical trends of the popularity of different names to see if there is a sudden change on the whole nation or regional levels. Special attention can be paid to the not so popular names in this case. This analysis can give some insights on the migration of the sub-popular names.\n",
    "\n",
    "There will be many more ways to use this dataset. Those 4 points are the ones I can think of at the moment."
   ]
  },
  {
   "cell_type": "markdown",
   "metadata": {},
   "source": [
    "## PART C : *Summary*\n",
    "\n",
    "To wrap up, the following are the take home messages from this notebook:\n",
    "\n",
    "1. Baby dataset contains 51 comma separated text file corresponding to each states. No missing data or capital letter mishandling are found. First 5 years data increase too rapidly. They are excluded from the analysis in Part B.\n",
    "\n",
    "2. **Mary** is the all time favorite girls' name while **James** is for boys.\n",
    "\n",
    "3. The most ambiguous name taking into consideration of popularity in 2013 is **Charlie**. In 1945, that is **Leslie**.\n",
    "\n",
    "4. **Tyler** has the largest percentage increase (although dropped in recent year) since 1980. **Jennifer** has the largest percentage decrease at the same period.\n",
    "\n",
    "5. **Mary, Shirley, Helen** had even larger decrease in popularity than Jennifer before 1980. There were 39 names having larger increase in popularity than Tyler before 1980.\n",
    "\n",
    "6. Time series analysis on the name counts in the whole nation shows three baby booms in consistent with the American history. \n",
    "\n",
    "7. Base line of the population is fitted with exponential model.\n",
    "\n",
    "8. The residuals from the exponential model show no rigid periodicity. Residuals have autocorrelation up to 15 years.\n",
    "\n",
    "9. The residuals are fitted with the moving average to predict 1 year ahead of time. Forward chaining cross validation is used to train the model. The combined model provides decent population estimation in recent years. \n",
    "\n",
    "10. The analysis can be improved by combining the data from US Census data.\n",
    "\n",
    "11. There are 4 ways of other usage of this dataset I can propose at the moment. \n",
    "\n",
    "\n",
    "Last note on the code implementation. I have chosen to use the spark dataframe to take the advantage of the laziness of evaluation, capability of combining SQL syntax, and future proof. I provided two versions of codes, one for the dataframe while the other for SQL query, for question 2. Question 1 is done in dataframe. Question 3, 4, 5 are done in SQL queries (with a small portion of alternation in the latter part). The whole Part A can be, in fact, done with just SQL queries. I have used the window function in my SQL queries, which is not supported by SQLite. \n",
    "\n",
    "\n",
    "Thank you very much for taking your time reading this. Hopefully, there are some useful information you can take home."
   ]
  },
  {
   "cell_type": "code",
   "execution_count": 37,
   "metadata": {},
   "outputs": [],
   "source": [
    "sc.stop()"
   ]
  }
 ],
 "metadata": {
  "kernelspec": {
   "display_name": "Python 3",
   "language": "python",
   "name": "python3"
  },
  "language_info": {
   "codemirror_mode": {
    "name": "ipython",
    "version": 3
   },
   "file_extension": ".py",
   "mimetype": "text/x-python",
   "name": "python",
   "nbconvert_exporter": "python",
   "pygments_lexer": "ipython3",
   "version": "3.6.2"
  }
 },
 "nbformat": 4,
 "nbformat_minor": 2
}
